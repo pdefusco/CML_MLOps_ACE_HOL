{
 "cells": [
  {
   "cell_type": "code",
   "execution_count": 5,
   "id": "08b2fe85-f131-4893-8b2a-a86d605ce108",
   "metadata": {
    "tags": []
   },
   "outputs": [],
   "source": [
    "#****************************************************************************\n",
    "# (C) Cloudera, Inc. 2020-2023\n",
    "#  All rights reserved.\n",
    "#\n",
    "#  Applicable Open Source License: GNU Affero General Public License v3.0\n",
    "#\n",
    "#  NOTE: Cloudera open source products are modular software products\n",
    "#  made up of hundreds of individual components, each of which was\n",
    "#  individually copyrighted.  Each Cloudera open source product is a\n",
    "#  collective work under U.S. Copyright Law. Your license to use the\n",
    "#  collective work is as provided in your written agreement with\n",
    "#  Cloudera.  Used apart from the collective work, this file is\n",
    "#  licensed for your use pursuant to the open source license\n",
    "#  identified above.\n",
    "#\n",
    "#  This code is provided to you pursuant a written agreement with\n",
    "#  (i) Cloudera, Inc. or (ii) a third-party authorized to distribute\n",
    "#  this code. If you do not have a written agreement with Cloudera nor\n",
    "#  with an authorized and properly licensed third party, you do not\n",
    "#  have any rights to access nor to use this code.\n",
    "#\n",
    "#  Absent a written agreement with Cloudera, Inc. (“Cloudera”) to the\n",
    "#  contrary, A) CLOUDERA PROVIDES THIS CODE TO YOU WITHOUT WARRANTIES OF ANY\n",
    "#  KIND; (B) CLOUDERA DISCLAIMS ANY AND ALL EXPRESS AND IMPLIED\n",
    "#  WARRANTIES WITH RESPECT TO THIS CODE, INCLUDING BUT NOT LIMITED TO\n",
    "#  IMPLIED WARRANTIES OF TITLE, NON-INFRINGEMENT, MERCHANTABILITY AND\n",
    "#  FITNESS FOR A PARTICULAR PURPOSE; (C) CLOUDERA IS NOT LIABLE TO YOU,\n",
    "#  AND WILL NOT DEFEND, INDEMNIFY, NOR HOLD YOU HARMLESS FOR ANY CLAIMS\n",
    "#  ARISING FROM OR RELATED TO THE CODE; AND (D)WITH RESPECT TO YOUR EXERCISE\n",
    "#  OF ANY RIGHTS GRANTED TO YOU FOR THE CODE, CLOUDERA IS NOT LIABLE FOR ANY\n",
    "#  DIRECT, INDIRECT, INCIDENTAL, SPECIAL, EXEMPLARY, PUNITIVE OR\n",
    "#  CONSEQUENTIAL DAMAGES INCLUDING, BUT NOT LIMITED TO, DAMAGES\n",
    "#  RELATED TO LOST REVENUE, LOST PROFITS, LOSS OF INCOME, LOSS OF\n",
    "#  BUSINESS ADVANTAGE OR UNAVAILABILITY, OR LOSS OR CORRUPTION OF\n",
    "#  DATA.\n",
    "#\n",
    "# #  Author(s): Paul de Fusco\n",
    "#***************************************************************************/"
   ]
  },
  {
   "cell_type": "code",
   "execution_count": 6,
   "id": "13595917-886c-48dc-8b65-6196b276432d",
   "metadata": {
    "tags": []
   },
   "outputs": [],
   "source": [
    "import os\n",
    "import json\n",
    "import warnings\n",
    "import sys\n",
    "import mlflow\n",
    "import pandas as pd\n",
    "import numpy as np\n",
    "from sklearn.metrics import mean_squared_error, mean_absolute_error, r2_score\n",
    "from sklearn.model_selection import train_test_split\n",
    "from sklearn.linear_model import ElasticNet\n",
    "import mlflow.sklearn"
   ]
  },
  {
   "cell_type": "markdown",
   "id": "6525b447-ee82-4f4a-9c9c-e48c59988384",
   "metadata": {},
   "source": [
    "##### You can attach files and tags to an MLFlow Experiment Run"
   ]
  },
  {
   "cell_type": "code",
   "execution_count": 7,
   "id": "4b9361eb-c6ab-41bc-a5e4-0490ee112a9f",
   "metadata": {
    "tags": []
   },
   "outputs": [],
   "source": [
    "# Create some files to preserve as artifacts\n",
    "features = \"rooms, zipcode, median_price, school_rating, transport\"\n",
    "data = {\"state\": \"TX\", \"Available\": 25, \"Type\": \"Detached\"}\n",
    "\n",
    "# Create couple of artifact files under the directory \"data\"\n",
    "os.makedirs(\"data\", exist_ok=True)\n",
    "with open(\"data/data.json\", 'w', encoding='utf-8') as f:\n",
    "    json.dump(data, f, indent=2)\n",
    "with open(\"data/features.txt\", 'w') as f:\n",
    "    f.write(features)\n",
    "\n",
    "tags = {\n",
    "    \"engineering\": \"ML Platform\",\n",
    "    \"release.candidate\": \"RC1\",\n",
    "    \"release.version\": \"2.2.0\",\n",
    "}"
   ]
  },
  {
   "cell_type": "markdown",
   "id": "27ff42ca-6d60-45af-9c27-24a8a74bd170",
   "metadata": {},
   "source": [
    "The Experiment Run context allows you to access Experiment Run Metadata"
   ]
  },
  {
   "cell_type": "code",
   "execution_count": 8,
   "id": "9d9caa6f-2b16-4054-af67-154cfdff3b56",
   "metadata": {
    "tags": []
   },
   "outputs": [],
   "source": [
    "def eval_metrics(actual, pred):\n",
    "    rmse = np.sqrt(mean_squared_error(actual, pred))\n",
    "    mae = mean_absolute_error(actual, pred)\n",
    "    r2 = r2_score(actual, pred)\n",
    "    return rmse, mae, r2"
   ]
  },
  {
   "cell_type": "code",
   "execution_count": 9,
   "id": "ed7c6334-4077-4a03-8993-ca7595310af0",
   "metadata": {
    "tags": []
   },
   "outputs": [],
   "source": [
    "def run_experiment():\n",
    "    warnings.filterwarnings(\"ignore\")\n",
    "    np.random.seed(40)\n",
    "\n",
    "    mlflow.set_experiment(\"wine-quality-test\")\n",
    "\n",
    "    # Read the wine-quality csv file from the URL\n",
    "    csv_url = (\n",
    "        \"https://raw.githubusercontent.com/mlflow/mlflow-example/master/wine-quality.csv\"\n",
    "    )\n",
    "    try:\n",
    "        data = pd.read_csv(csv_url, sep=\",\")\n",
    "    except Exception as e:\n",
    "        logger.exception(\n",
    "            \"Unable to download training & test CSV, check your internet connection. Error: %s\", e\n",
    "        )\n",
    "\n",
    "    # Split the data into training and test sets. (0.75, 0.25) split.\n",
    "    train, test = train_test_split(data)\n",
    "\n",
    "    # The predicted column is \"quality\" which is a scalar from [3, 9]\n",
    "    train_x = train.drop([\"quality\"], axis=1)\n",
    "    test_x = test.drop([\"quality\"], axis=1)\n",
    "    train_y = train[[\"quality\"]]\n",
    "    test_y = test[[\"quality\"]]\n",
    "\n",
    "    alpha = 0.8\n",
    "    l1_ratio = 0.7\n",
    "\n",
    "    with mlflow.start_run():\n",
    "\n",
    "        lr = ElasticNet(alpha=alpha, l1_ratio=l1_ratio, random_state=42)\n",
    "        lr.fit(train_x, train_y)\n",
    "\n",
    "        predicted_qualities = lr.predict(test_x)\n",
    "\n",
    "        (rmse, mae, r2) = eval_metrics(test_y, predicted_qualities)\n",
    "\n",
    "        print(\"Elasticnet model (alpha={:f}, l1_ratio={:f}):\".format(alpha, l1_ratio))\n",
    "        print(\"  RMSE: %s\" % rmse)\n",
    "        print(\"  MAE: %s\" % mae)\n",
    "        print(\"  R2: %s\" % r2)\n",
    "\n",
    "        mlflow.log_param(\"alpha\", alpha)\n",
    "        mlflow.log_param(\"l1_ratio\", l1_ratio)\n",
    "        mlflow.log_metric(\"rmse\", rmse)\n",
    "        mlflow.log_metric(\"r2\", r2)\n",
    "        mlflow.log_metric(\"mae\", mae)\n",
    "        mlflow.sklearn.log_model(lr, \"model\")\n",
    "        \n",
    "        # Set a batch of tags\n",
    "        mlflow.set_tags(tags)    \n",
    "    \n",
    "        # Write all files in \"data\" to root artifact_uri/states\n",
    "        mlflow.log_artifacts(\"data\", artifact_path=\"states\")"
   ]
  },
  {
   "cell_type": "code",
   "execution_count": 10,
   "id": "46884709-5bdf-4080-b4f5-17c0e93bf8f2",
   "metadata": {
    "tags": []
   },
   "outputs": [
    {
     "name": "stdout",
     "output_type": "stream",
     "text": [
      "Elasticnet model (alpha=0.800000, l1_ratio=0.700000):\n",
      "  RMSE: 0.8595414376735744\n",
      "  MAE: 0.6480061258882328\n",
      "  R2: 0.045769026631650944\n"
     ]
    }
   ],
   "source": [
    "run_experiment()"
   ]
  },
  {
   "cell_type": "markdown",
   "id": "b22f3ab1-afaa-40bc-bbfc-0a9735ed9d62",
   "metadata": {},
   "source": [
    "The MLFlow Tracking Client allows you to parse Experiment Run metadata in bulk for further analysis"
   ]
  },
  {
   "cell_type": "code",
   "execution_count": 11,
   "id": "d763aa1e-0448-4ca3-85d7-79cfea052f8a",
   "metadata": {
    "tags": []
   },
   "outputs": [
    {
     "name": "stdout",
     "output_type": "stream",
     "text": [
      "Name: wine-quality-test\n",
      "Experiment_id: 2tv3-479z-x02f-jndi\n",
      "Artifact Location: /home/cdsw/.experiments/2tv3-479z-x02f-jndi\n",
      "Lifecycle_stage: active\n"
     ]
    }
   ],
   "source": [
    "#client = mlflow.tracking.MlflowClient()\n",
    "#data = client.get_run(mlflow.latest_active_run().info.run_id).data\n",
    "\n",
    "#Read Experiment ID by Experiment Name\n",
    "experiment_id = mlflow.get_experiment_by_name(\"wine-quality-test\").experiment_id\n",
    "\n",
    "#Read Experiment by Experiment ID\n",
    "experiment = mlflow.get_experiment(experiment_id)\n",
    "\n",
    "#Print important Experiment Metadata\n",
    "print(\"Name: {}\".format(experiment.name))\n",
    "print(\"Experiment_id: {}\".format(experiment.experiment_id))\n",
    "print(\"Artifact Location: {}\".format(experiment.artifact_location))\n",
    "print(\"Lifecycle_stage: {}\".format(experiment.lifecycle_stage))"
   ]
  },
  {
   "cell_type": "markdown",
   "id": "55a52130-1baf-4ef1-bd76-d184a7d1b2a2",
   "metadata": {},
   "source": [
    "You can parse all runs into a Pandas dataframe"
   ]
  },
  {
   "cell_type": "code",
   "execution_count": 12,
   "id": "e961e358-bec6-4b05-8a76-9c644f2a1885",
   "metadata": {
    "tags": []
   },
   "outputs": [
    {
     "data": {
      "text/html": [
       "<div>\n",
       "<style scoped>\n",
       "    .dataframe tbody tr th:only-of-type {\n",
       "        vertical-align: middle;\n",
       "    }\n",
       "\n",
       "    .dataframe tbody tr th {\n",
       "        vertical-align: top;\n",
       "    }\n",
       "\n",
       "    .dataframe thead th {\n",
       "        text-align: right;\n",
       "    }\n",
       "</style>\n",
       "<table border=\"1\" class=\"dataframe\">\n",
       "  <thead>\n",
       "    <tr style=\"text-align: right;\">\n",
       "      <th></th>\n",
       "      <th>run_id</th>\n",
       "      <th>experiment_id</th>\n",
       "      <th>status</th>\n",
       "      <th>artifact_uri</th>\n",
       "      <th>start_time</th>\n",
       "      <th>end_time</th>\n",
       "      <th>metrics.rmse</th>\n",
       "      <th>metrics.mae</th>\n",
       "      <th>metrics.r2</th>\n",
       "      <th>params.alpha</th>\n",
       "      <th>params.l1_ratio</th>\n",
       "      <th>tags.mlflow.source.name</th>\n",
       "      <th>tags.mlflow.source.type</th>\n",
       "      <th>tags.mlflow.user</th>\n",
       "      <th>tags.mlflow.log-model.history</th>\n",
       "      <th>tags.mlflow.source.git.commit</th>\n",
       "      <th>tags.engineID</th>\n",
       "      <th>tags.release.version</th>\n",
       "      <th>tags.release.candidate</th>\n",
       "      <th>tags.engineering</th>\n",
       "    </tr>\n",
       "  </thead>\n",
       "  <tbody>\n",
       "    <tr>\n",
       "      <th>0</th>\n",
       "      <td>1ip4-kluf-v7zb-ag2q</td>\n",
       "      <td>2tv3-479z-x02f-jndi</td>\n",
       "      <td>EXPERIMENT_RUN_FINISHED</td>\n",
       "      <td>/home/cdsw/.experiments/2tv3-479z-x02f-jndi/1i...</td>\n",
       "      <td>2023-11-05 19:43:33.726781952+00:00</td>\n",
       "      <td>2023-11-05 19:43:38.683000064+00:00</td>\n",
       "      <td>0.859162</td>\n",
       "      <td>0.648351</td>\n",
       "      <td>0.046612</td>\n",
       "      <td>0.7</td>\n",
       "      <td>0.6</td>\n",
       "      <td>/usr/local/bin/ipython3</td>\n",
       "      <td>LOCAL</td>\n",
       "      <td>pauldefusco</td>\n",
       "      <td>[{\"run_id\": \"1ip4-kluf-v7zb-ag2q\", \"artifact_p...</td>\n",
       "      <td>06b7bed0031ad636f6b3ade4189ea15b164906f3</td>\n",
       "      <td>e4xbmrv1l9b1fkqf</td>\n",
       "      <td>None</td>\n",
       "      <td>None</td>\n",
       "      <td>None</td>\n",
       "    </tr>\n",
       "    <tr>\n",
       "      <th>1</th>\n",
       "      <td>1ge2-g8tr-2nlb-jjcx</td>\n",
       "      <td>2tv3-479z-x02f-jndi</td>\n",
       "      <td>EXPERIMENT_RUN_FINISHED</td>\n",
       "      <td>/home/cdsw/.experiments/2tv3-479z-x02f-jndi/1g...</td>\n",
       "      <td>2023-11-05 19:43:46.718746880+00:00</td>\n",
       "      <td>2023-11-05 19:43:51.279000064+00:00</td>\n",
       "      <td>0.795855</td>\n",
       "      <td>0.619685</td>\n",
       "      <td>0.181935</td>\n",
       "      <td>0.4</td>\n",
       "      <td>0.2</td>\n",
       "      <td>/usr/local/bin/ipython3</td>\n",
       "      <td>LOCAL</td>\n",
       "      <td>pauldefusco</td>\n",
       "      <td>[{\"run_id\": \"1ge2-g8tr-2nlb-jjcx\", \"artifact_p...</td>\n",
       "      <td>06b7bed0031ad636f6b3ade4189ea15b164906f3</td>\n",
       "      <td>e4xbmrv1l9b1fkqf</td>\n",
       "      <td>None</td>\n",
       "      <td>None</td>\n",
       "      <td>None</td>\n",
       "    </tr>\n",
       "    <tr>\n",
       "      <th>2</th>\n",
       "      <td>z96r-6hy8-k4w7-q65d</td>\n",
       "      <td>2tv3-479z-x02f-jndi</td>\n",
       "      <td>EXPERIMENT_RUN_FINISHED</td>\n",
       "      <td>/home/cdsw/.experiments/2tv3-479z-x02f-jndi/z9...</td>\n",
       "      <td>2023-11-05 19:46:02.406344960+00:00</td>\n",
       "      <td>2023-11-05 19:46:08.438000128+00:00</td>\n",
       "      <td>0.859541</td>\n",
       "      <td>0.648006</td>\n",
       "      <td>0.045769</td>\n",
       "      <td>0.8</td>\n",
       "      <td>0.7</td>\n",
       "      <td>/usr/local/lib/python3.9/site-packages/ipykern...</td>\n",
       "      <td>LOCAL</td>\n",
       "      <td>pauldefusco</td>\n",
       "      <td>[{\"run_id\": \"z96r-6hy8-k4w7-q65d\", \"artifact_p...</td>\n",
       "      <td>06b7bed0031ad636f6b3ade4189ea15b164906f3</td>\n",
       "      <td>3fw9f74t2egfv60p</td>\n",
       "      <td>2.2.0</td>\n",
       "      <td>RC1</td>\n",
       "      <td>ML Platform</td>\n",
       "    </tr>\n",
       "  </tbody>\n",
       "</table>\n",
       "</div>"
      ],
      "text/plain": [
       "                run_id        experiment_id                   status  \\\n",
       "0  1ip4-kluf-v7zb-ag2q  2tv3-479z-x02f-jndi  EXPERIMENT_RUN_FINISHED   \n",
       "1  1ge2-g8tr-2nlb-jjcx  2tv3-479z-x02f-jndi  EXPERIMENT_RUN_FINISHED   \n",
       "2  z96r-6hy8-k4w7-q65d  2tv3-479z-x02f-jndi  EXPERIMENT_RUN_FINISHED   \n",
       "\n",
       "                                        artifact_uri  \\\n",
       "0  /home/cdsw/.experiments/2tv3-479z-x02f-jndi/1i...   \n",
       "1  /home/cdsw/.experiments/2tv3-479z-x02f-jndi/1g...   \n",
       "2  /home/cdsw/.experiments/2tv3-479z-x02f-jndi/z9...   \n",
       "\n",
       "                           start_time                            end_time  \\\n",
       "0 2023-11-05 19:43:33.726781952+00:00 2023-11-05 19:43:38.683000064+00:00   \n",
       "1 2023-11-05 19:43:46.718746880+00:00 2023-11-05 19:43:51.279000064+00:00   \n",
       "2 2023-11-05 19:46:02.406344960+00:00 2023-11-05 19:46:08.438000128+00:00   \n",
       "\n",
       "   metrics.rmse  metrics.mae  metrics.r2 params.alpha params.l1_ratio  \\\n",
       "0      0.859162     0.648351    0.046612          0.7             0.6   \n",
       "1      0.795855     0.619685    0.181935          0.4             0.2   \n",
       "2      0.859541     0.648006    0.045769          0.8             0.7   \n",
       "\n",
       "                             tags.mlflow.source.name tags.mlflow.source.type  \\\n",
       "0                            /usr/local/bin/ipython3                   LOCAL   \n",
       "1                            /usr/local/bin/ipython3                   LOCAL   \n",
       "2  /usr/local/lib/python3.9/site-packages/ipykern...                   LOCAL   \n",
       "\n",
       "  tags.mlflow.user                      tags.mlflow.log-model.history  \\\n",
       "0      pauldefusco  [{\"run_id\": \"1ip4-kluf-v7zb-ag2q\", \"artifact_p...   \n",
       "1      pauldefusco  [{\"run_id\": \"1ge2-g8tr-2nlb-jjcx\", \"artifact_p...   \n",
       "2      pauldefusco  [{\"run_id\": \"z96r-6hy8-k4w7-q65d\", \"artifact_p...   \n",
       "\n",
       "              tags.mlflow.source.git.commit     tags.engineID  \\\n",
       "0  06b7bed0031ad636f6b3ade4189ea15b164906f3  e4xbmrv1l9b1fkqf   \n",
       "1  06b7bed0031ad636f6b3ade4189ea15b164906f3  e4xbmrv1l9b1fkqf   \n",
       "2  06b7bed0031ad636f6b3ade4189ea15b164906f3  3fw9f74t2egfv60p   \n",
       "\n",
       "  tags.release.version tags.release.candidate tags.engineering  \n",
       "0                 None                   None             None  \n",
       "1                 None                   None             None  \n",
       "2                2.2.0                    RC1      ML Platform  "
      ]
     },
     "execution_count": 12,
     "metadata": {},
     "output_type": "execute_result"
    }
   ],
   "source": [
    "runs_df = mlflow.search_runs(experiment_id, run_view_type=1)\n",
    "runs_df"
   ]
  },
  {
   "cell_type": "markdown",
   "id": "48e85527-9919-46ce-abcb-817b38f3c165",
   "metadata": {},
   "source": [
    "##### MLFlow Autologging"
   ]
  },
  {
   "cell_type": "code",
   "execution_count": 13,
   "id": "7bd9220c-83e8-432a-bd30-592e4d6ab6e0",
   "metadata": {
    "tags": []
   },
   "outputs": [],
   "source": [
    "from mlflow.tracking import MlflowClient"
   ]
  },
  {
   "cell_type": "code",
   "execution_count": 14,
   "id": "e66981db-bb7d-44ce-8cf2-a90b14c46e48",
   "metadata": {
    "tags": []
   },
   "outputs": [],
   "source": [
    "def yield_artifacts(run_id, path=None):\n",
    "    \"\"\"Yield all artifacts in the specified run\"\"\"\n",
    "    client = MlflowClient()\n",
    "    for item in client.list_artifacts(run_id, path):\n",
    "        if item.is_dir:\n",
    "            yield from yield_artifacts(run_id, item.path)\n",
    "        else:\n",
    "            yield item.path"
   ]
  },
  {
   "cell_type": "code",
   "execution_count": 15,
   "id": "6d3dacb8-0f43-4897-a78d-72adb6725bc5",
   "metadata": {
    "tags": []
   },
   "outputs": [],
   "source": [
    "def fetch_logged_data(run_id):\n",
    "    \"\"\"Fetch params, metrics, tags, and artifacts in the specified run\"\"\"\n",
    "    client = MlflowClient()\n",
    "    data = client.get_run(run_id).data\n",
    "    # Exclude system tags: https://www.mlflow.org/docs/latest/tracking.html#system-tags\n",
    "    tags = {k: v for k, v in data.tags.items() if not k.startswith(\"mlflow.\")}\n",
    "    artifacts = list(yield_artifacts(run_id))\n",
    "    return {\n",
    "        \"params\": data.params,\n",
    "        \"metrics\": data.metrics,\n",
    "        \"tags\": tags,\n",
    "        \"artifacts\": artifacts,\n",
    "    }"
   ]
  },
  {
   "cell_type": "code",
   "execution_count": 16,
   "id": "b65e9102-6c50-4db4-9002-c2db7e793dc4",
   "metadata": {
    "tags": []
   },
   "outputs": [],
   "source": [
    "from pprint import pprint\n",
    "import pandas as pd\n",
    "from sklearn import svm, datasets\n",
    "from sklearn.model_selection import GridSearchCV"
   ]
  },
  {
   "cell_type": "code",
   "execution_count": 17,
   "id": "22a01007-a7dc-4857-9895-73d41eb0ba0d",
   "metadata": {
    "tags": []
   },
   "outputs": [],
   "source": [
    "def run_iris():\n",
    "    mlflow.sklearn.autolog()\n",
    "\n",
    "    mlflow.set_experiment(\"auto_experiments\")\n",
    "    iris = datasets.load_iris()\n",
    "    parameters = {\"kernel\": (\"linear\", \"rbf\"), \"C\": [1, 5, 7, 10]}\n",
    "    svc = svm.SVC()\n",
    "    clf = GridSearchCV(svc, parameters)\n",
    "\n",
    "    clf.fit(iris.data, iris.target)\n",
    "    run_id = mlflow.last_active_run().info.run_id\n",
    "\n",
    "    # show data logged in the parent run\n",
    "    print(\"========== parent run ==========\")\n",
    "    for key, data in fetch_logged_data(run_id).items():\n",
    "        print(\"\\n---------- logged {} ----------\".format(key))\n",
    "        pprint(data)\n",
    "\n",
    "    # show data logged in the child runs\n",
    "    filter_child_runs = \"tags.mlflow.parentRunId = '{}'\".format(run_id)\n",
    "    runs = mlflow.search_runs(filter_string=filter_child_runs)\n",
    "    param_cols = [\"params.{}\".format(p) for p in parameters.keys()]\n",
    "    metric_cols = [\"metrics.mean_test_score\"]\n",
    "\n",
    "    print(\"\\n========== child runs ==========\\n\")\n",
    "    pd.set_option(\"display.max_columns\", None)  # prevent truncating columns\n",
    "    print(runs[[\"run_id\", *param_cols, *metric_cols]])"
   ]
  },
  {
   "cell_type": "code",
   "execution_count": 18,
   "id": "4fb54f8f-3c3d-4039-a71e-240a192e0444",
   "metadata": {
    "tags": []
   },
   "outputs": [
    {
     "name": "stderr",
     "output_type": "stream",
     "text": [
      "2023/11/05 19:46:23 WARNING mlflow.utils.autologging_utils: You are using an unsupported version of sklearn. If you encounter errors during autologging, try upgrading / downgrading sklearn to a supported version, or try upgrading MLflow.\n",
      "2023/11/05 19:46:26 INFO mlflow.tracking.fluent: Experiment with name 'auto_experiments' does not exist. Creating a new experiment.\n",
      "2023/11/05 19:46:26 INFO mlflow.utils.autologging_utils: Created MLflow autologging run with ID 'clpf-hea2-70n5-6af1', which will track hyperparameters, performance metrics, model artifacts, and lineage information for the current sklearn workflow\n",
      "2023/11/05 19:46:35 INFO mlflow.sklearn.utils: Logging the 5 best runs, 3 runs will be omitted.\n"
     ]
    },
    {
     "name": "stdout",
     "output_type": "stream",
     "text": [
      "========== parent run ==========\n",
      "\n",
      "---------- logged params ----------\n",
      "{'best_C': '5',\n",
      " 'best_kernel': 'rbf',\n",
      " 'cv': 'None',\n",
      " 'error_score': 'nan',\n",
      " 'estimator': 'SVC()',\n",
      " 'n_jobs': 'None',\n",
      " 'param_grid': \"{'kernel': ('linear', 'rbf'), 'C': [1, 5, 7, 10]}\",\n",
      " 'pre_dispatch': '2*n_jobs',\n",
      " 'refit': 'True',\n",
      " 'return_train_score': 'False',\n",
      " 'scoring': 'None',\n",
      " 'verbose': '0'}\n",
      "\n",
      "---------- logged metrics ----------\n",
      "{'best_cv_score': 0.9866666666666667,\n",
      " 'training_accuracy_score': 0.9866666666666667,\n",
      " 'training_f1_score': 0.9866613311991462,\n",
      " 'training_precision_score': 0.9871794871794873,\n",
      " 'training_recall_score': 0.9866666666666667,\n",
      " 'training_score': 0.9866666666666667}\n",
      "\n",
      "---------- logged tags ----------\n",
      "{'engineID': '3fw9f74t2egfv60p',\n",
      " 'estimator_class': 'sklearn.model_selection._search.GridSearchCV',\n",
      " 'estimator_name': 'GridSearchCV'}\n",
      "\n",
      "---------- logged artifacts ----------\n",
      "['best_estimator/MLmodel',\n",
      " 'best_estimator/conda.yaml',\n",
      " 'best_estimator/model.pkl',\n",
      " 'best_estimator/python_env.yaml',\n",
      " 'best_estimator/requirements.txt',\n",
      " 'cv_results.csv',\n",
      " 'estimator.html',\n",
      " 'model/MLmodel',\n",
      " 'model/conda.yaml',\n",
      " 'model/model.pkl',\n",
      " 'model/python_env.yaml',\n",
      " 'model/requirements.txt',\n",
      " 'training_confusion_matrix.png']\n",
      "\n",
      "========== child runs ==========\n",
      "\n",
      "                run_id params.kernel params.C  metrics.mean_test_score\n",
      "0  j1j9-1lxc-usm8-2zqn        linear        1                 0.980000\n",
      "1  0aty-420i-pkc5-3hw3           rbf        7                 0.986667\n",
      "2  ivvm-bgl7-97u1-0dc7           rbf        5                 0.986667\n",
      "3  qj40-gdp8-81sw-ldss        linear        5                 0.980000\n",
      "4  jgvi-pfhm-fqeu-38w2           rbf       10                 0.980000\n"
     ]
    }
   ],
   "source": [
    "run_iris()"
   ]
  },
  {
   "cell_type": "code",
   "execution_count": null,
   "id": "fed3c8d3-af73-47f2-9bb2-63a7162e9b2c",
   "metadata": {},
   "outputs": [],
   "source": []
  }
 ],
 "metadata": {
  "kernelspec": {
   "display_name": "Python 3 (ipykernel)",
   "language": "python",
   "name": "python3"
  },
  "language_info": {
   "codemirror_mode": {
    "name": "ipython",
    "version": 3
   },
   "file_extension": ".py",
   "mimetype": "text/x-python",
   "name": "python",
   "nbconvert_exporter": "python",
   "pygments_lexer": "ipython3",
   "version": "3.9.16"
  }
 },
 "nbformat": 4,
 "nbformat_minor": 5
}
