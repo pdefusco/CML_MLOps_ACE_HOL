{
 "cells": [
  {
   "cell_type": "code",
   "execution_count": 8,
   "id": "f2de9681-c386-43e7-b1ad-91476ca199a8",
   "metadata": {},
   "outputs": [],
   "source": [
    "from pyspark.sql import SparkSession\n",
    "import pyspark.sql.functions as F\n",
    "from pyspark.sql.types import *\n",
    "import sys\n",
    "from pyspark.sql import Catalog"
   ]
  },
  {
   "cell_type": "code",
   "execution_count": 2,
   "id": "575acd08-8aeb-4d21-adb9-cfd94a02de9f",
   "metadata": {},
   "outputs": [
    {
     "name": "stderr",
     "output_type": "stream",
     "text": [
      "Setting spark.hadoop.yarn.resourcemanager.principal to pauldefusco\n"
     ]
    }
   ],
   "source": [
    "spark = SparkSession \\\n",
    "    .builder \\\n",
    "    .appName(\"Car Sales Report\") \\\n",
    "    .config(\"spark.sql.catalog.spark_catalog\", \"org.apache.iceberg.spark.SparkSessionCatalog\")\\\n",
    "    .config(\"spark.sql.catalog.spark_catalog.type\", \"hive\")\\\n",
    "    .config(\"spark.sql.extensions\", \"org.apache.iceberg.spark.extensions.IcebergSparkSessionExtensions\")\\\n",
    "    .config(\"spark.yarn.access.hadoopFileSystems\", \"s3a://go01-demo/\")\\\n",
    "    .config(\"spark.sql.catalog.local\", \"org.apache.iceberg.spark.SparkCatalog\")\\\n",
    "    .config(\"spark.sql.catalog.local.type\",\"hadoop\")\\\n",
    "    .getOrCreate()"
   ]
  },
  {
   "cell_type": "code",
   "execution_count": 3,
   "id": "38f8dc4b-6119-4491-8c1c-c5e607125489",
   "metadata": {},
   "outputs": [],
   "source": [
    "data_lake_name = \"s3a://go01-demo/\"\n",
    "s3BucketName = \"s3a://go01-demo/cde-workshop/cardata-csv/\"\n",
    "# Your Username Here:\n",
    "username = \"test_user_112222_7\""
   ]
  },
  {
   "cell_type": "code",
   "execution_count": 17,
   "id": "b8137dc4-6e1b-4507-b215-1d825a15490c",
   "metadata": {},
   "outputs": [
    {
     "data": {
      "text/plain": [
       "'test_user_112222_7_car_data'"
      ]
     },
     "execution_count": 17,
     "metadata": {},
     "output_type": "execute_result"
    }
   ],
   "source": [
    "spark.catalog.currentDatabase()"
   ]
  },
  {
   "cell_type": "code",
   "execution_count": 20,
   "id": "6bb22096-b1c3-488b-958c-66dc504db724",
   "metadata": {},
   "outputs": [
    {
     "name": "stderr",
     "output_type": "stream",
     "text": [
      "                                                                                \r"
     ]
    },
    {
     "data": {
      "text/plain": [
       "[Table(name='t', database='default', description=None, tableType='MANAGED', isTemporary=False),\n",
       " Table(name='s', database='default', description=None, tableType='MANAGED', isTemporary=False),\n",
       " Table(name='lc_smote_subset', database='default', description=None, tableType='EXTERNAL', isTemporary=False),\n",
       " Table(name='driver_stats', database='default', description=None, tableType='EXTERNAL', isTemporary=False),\n",
       " Table(name='table1', database='default', description=None, tableType='MANAGED', isTemporary=False),\n",
       " Table(name='ttable2', database='default', description=None, tableType='MANAGED', isTemporary=False),\n",
       " Table(name='employee_ofer', database='default', description=None, tableType='MANAGED', isTemporary=False),\n",
       " Table(name='tax_auth_heb', database='default', description=None, tableType='MANAGED', isTemporary=False),\n",
       " Table(name='results_anomaly', database='default', description=None, tableType='MANAGED', isTemporary=False),\n",
       " Table(name='mytable', database='default', description=None, tableType='EXTERNAL', isTemporary=False),\n",
       " Table(name='transactions', database='default', description=None, tableType=None, isTemporary=False),\n",
       " Table(name='customer_temp', database='default', description=None, tableType='EXTERNAL', isTemporary=False),\n",
       " Table(name='ms_churn_prototype', database='default', description=None, tableType='EXTERNAL', isTemporary=False),\n",
       " Table(name='customers', database='default', description=None, tableType=None, isTemporary=False),\n",
       " Table(name='table2', database='default', description=None, tableType='MANAGED', isTemporary=False),\n",
       " Table(name='numbers', database='default', description=None, tableType='MANAGED', isTemporary=False),\n",
       " Table(name='a', database='default', description=None, tableType='EXTERNAL', isTemporary=False),\n",
       " Table(name='tax_auth_heb_line', database='default', description=None, tableType='MANAGED', isTemporary=False),\n",
       " Table(name='syslog', database='default', description=None, tableType='EXTERNAL', isTemporary=False),\n",
       " Table(name='wc_matches', database='default', description=None, tableType='MANAGED', isTemporary=False),\n",
       " Table(name='transactions_data_2', database='default', description=None, tableType=None, isTemporary=False),\n",
       " Table(name='customers_2', database='default', description=None, tableType=None, isTemporary=False),\n",
       " Table(name='fraudulent_txn_2', database='default', description=None, tableType=None, isTemporary=False),\n",
       " Table(name='telco_churn', database='default', description=None, tableType='EXTERNAL', isTemporary=False),\n",
       " Table(name='a_demo_table', database='default', description=None, tableType='MANAGED', isTemporary=False),\n",
       " Table(name='anomaly_detection', database='default', description=None, tableType='MANAGED', isTemporary=False),\n",
       " Table(name='lc_smote_k_3', database='default', description=None, tableType='EXTERNAL', isTemporary=False),\n",
       " Table(name='b', database='default', description=None, tableType='MANAGED', isTemporary=False),\n",
       " Table(name='churn_prototype_atlas', database='default', description=None, tableType='EXTERNAL', isTemporary=False),\n",
       " Table(name='hurricane', database='default', description=None, tableType='EXTERNAL', isTemporary=False),\n",
       " Table(name='hurricane3', database='default', description=None, tableType='EXTERNAL', isTemporary=False),\n",
       " Table(name='churn_prototype', database='default', description=None, tableType='EXTERNAL', isTemporary=False),\n",
       " Table(name='churn_prototype_username', database='default', description=None, tableType='EXTERNAL', isTemporary=False),\n",
       " Table(name='total_airtime_ext', database='default', description=None, tableType='EXTERNAL', isTemporary=False),\n",
       " Table(name='international_results_skip', database='default', description=None, tableType='MANAGED', isTemporary=False),\n",
       " Table(name='fraudulent_txn', database='default', description=None, tableType=None, isTemporary=False),\n",
       " Table(name='cc_info_table', database='default', description='Credit Card Info', tableType='EXTERNAL', isTemporary=False),\n",
       " Table(name='transactions_data', database='default', description=None, tableType=None, isTemporary=False),\n",
       " Table(name='a1', database='default', description=None, tableType='MANAGED', isTemporary=False),\n",
       " Table(name='b1', database='default', description=None, tableType='MANAGED', isTemporary=False),\n",
       " Table(name='customerdata', database='default', description=None, tableType=None, isTemporary=False),\n",
       " Table(name='hurricane2', database='default', description=None, tableType='EXTERNAL', isTemporary=False),\n",
       " Table(name='people', database='default', description=None, tableType='EXTERNAL', isTemporary=False),\n",
       " Table(name='lc_predictions', database='default', description=None, tableType='EXTERNAL', isTemporary=False),\n",
       " Table(name='profile_1670606388', database='default', description=None, tableType='MANAGED', isTemporary=False),\n",
       " Table(name='erik_test', database='default', description=None, tableType=None, isTemporary=False),\n",
       " Table(name='01_customer_data', database='default', description=None, tableType='MANAGED', isTemporary=False),\n",
       " Table(name='fraud_trans', database='default', description=None, tableType=None, isTemporary=False),\n",
       " Table(name='customerdata_temp', database='default', description=None, tableType='EXTERNAL', isTemporary=False),\n",
       " Table(name='airlines_csv1flights_csv', database='default', description=None, tableType='EXTERNAL', isTemporary=False),\n",
       " Table(name='lin1', database='default', description=None, tableType='MANAGED', isTemporary=False),\n",
       " Table(name='pk_inline', database='default', description=None, tableType=None, isTemporary=False),\n",
       " Table(name='lin2', database='default', description=None, tableType='MANAGED', isTemporary=False),\n",
       " Table(name='batch_load_table', database='default', description=None, tableType='EXTERNAL', isTemporary=False),\n",
       " Table(name='transactions2', database='default', description=None, tableType=None, isTemporary=False),\n",
       " Table(name='emp_fname', database='default', description=None, tableType='EXTERNAL', isTemporary=False),\n",
       " Table(name='emp_all', database='default', description=None, tableType='EXTERNAL', isTemporary=False),\n",
       " Table(name='emp_younger', database='default', description=None, tableType='EXTERNAL', isTemporary=False),\n",
       " Table(name='emp_older', database='default', description=None, tableType='EXTERNAL', isTemporary=False),\n",
       " Table(name='member', database='default', description=None, tableType='MANAGED', isTemporary=False),\n",
       " Table(name='validationtable', database='default', description=None, tableType='EXTERNAL', isTemporary=False),\n",
       " Table(name='covid_states', database='default', description=None, tableType='MANAGED', isTemporary=False),\n",
       " Table(name='lin3', database='default', description=None, tableType='MANAGED', isTemporary=False),\n",
       " Table(name='pysparktab', database='default', description=None, tableType='EXTERNAL', isTemporary=False),\n",
       " Table(name='flights', database='default', description=None, tableType='EXTERNAL', isTemporary=False),\n",
       " Table(name='emp_lname', database='default', description=None, tableType='EXTERNAL', isTemporary=False),\n",
       " Table(name='emp_age', database='default', description=None, tableType='EXTERNAL', isTemporary=False),\n",
       " Table(name='emp_denom', database='default', description=None, tableType='EXTERNAL', isTemporary=False),\n",
       " Table(name='emp_id', database='default', description=None, tableType='EXTERNAL', isTemporary=False),\n",
       " Table(name='tb_funcionario', database='default', description=None, tableType='MANAGED', isTemporary=False),\n",
       " Table(name='tb_orc', database='default', description=None, tableType='MANAGED', isTemporary=False),\n",
       " Table(name='mlops_staging_table', database='default', description=None, tableType='EXTERNAL', isTemporary=False),\n",
       " Table(name='wsp_flights', database='default', description=None, tableType='EXTERNAL', isTemporary=False),\n",
       " Table(name='table_pessoa', database='default', description=None, tableType='MANAGED', isTemporary=False),\n",
       " Table(name='table_idade', database='default', description=None, tableType='MANAGED', isTemporary=False),\n",
       " Table(name='secret', database='default', description=None, tableType='EXTERNAL', isTemporary=False),\n",
       " Table(name='marketing_campaign_table', database='default', description='Marketing Campaign', tableType='MANAGED', isTemporary=False),\n",
       " Table(name='million', database='default', description=None, tableType='EXTERNAL', isTemporary=False),\n",
       " Table(name='adiboncdp', database='default', description=None, tableType='MANAGED', isTemporary=False),\n",
       " Table(name='million2', database='default', description=None, tableType='EXTERNAL', isTemporary=False),\n",
       " Table(name='churn_prototype_rtheron', database='default', description=None, tableType='EXTERNAL', isTemporary=False),\n",
       " Table(name='historical_customers', database='default', description=None, tableType='EXTERNAL', isTemporary=False),\n",
       " Table(name='lc_train', database='default', description=None, tableType='EXTERNAL', isTemporary=False),\n",
       " Table(name='customerdatag', database='default', description=None, tableType='MANAGED', isTemporary=False),\n",
       " Table(name='customerdata1g', database='default', description=None, tableType='MANAGED', isTemporary=False),\n",
       " Table(name='lc_test', database='default', description=None, tableType='EXTERNAL', isTemporary=False),\n",
       " Table(name='e2edemo', database='default', description=None, tableType='EXTERNAL', isTemporary=False),\n",
       " Table(name='clickthrough', database='default', description=None, tableType='EXTERNAL', isTemporary=False),\n",
       " Table(name='clickthrough_with_ts', database='default', description=None, tableType='EXTERNAL', isTemporary=False),\n",
       " Table(name='clickthrough_csv_batch_20141026', database='default', description=None, tableType='EXTERNAL', isTemporary=False),\n",
       " Table(name='test', database='default', description=None, tableType='MANAGED', isTemporary=False),\n",
       " Table(name='lc_smote_all', database='default', description=None, tableType='EXTERNAL', isTemporary=False),\n",
       " Table(name='paul_lc_table', database='default', description=None, tableType='EXTERNAL', isTemporary=False),\n",
       " Table(name='demo', database='default', description=None, tableType='MANAGED', isTemporary=False),\n",
       " Table(name='bank_info_table', database='default', description='Bank Info', tableType='MANAGED', isTemporary=False),\n",
       " Table(name='adibusage', database='default', description=None, tableType='MANAGED', isTemporary=False),\n",
       " Table(name='paul_lc_model_scoring', database='default', description=None, tableType='EXTERNAL', isTemporary=False),\n",
       " Table(name='wc_forecasts', database='default', description=None, tableType='MANAGED', isTemporary=False),\n",
       " Table(name='customer_daily_profile', database='default', description=None, tableType='EXTERNAL', isTemporary=False),\n",
       " Table(name='si2', database='default', description=None, tableType='EXTERNAL', isTemporary=False),\n",
       " Table(name='lc_table', database='default', description=None, tableType='EXTERNAL', isTemporary=False),\n",
       " Table(name='tbl_test_jr', database='default', description=None, tableType='MANAGED', isTemporary=False),\n",
       " Table(name='customerrecords', database='default', description=None, tableType='EXTERNAL', isTemporary=False),\n",
       " Table(name='ti', database='default', description=None, tableType='EXTERNAL', isTemporary=False),\n",
       " Table(name='si', database='default', description=None, tableType='EXTERNAL', isTemporary=False)]"
      ]
     },
     "execution_count": 20,
     "metadata": {},
     "output_type": "execute_result"
    }
   ],
   "source": [
    "spark.catalog.listTables('default')"
   ]
  },
  {
   "cell_type": "code",
   "execution_count": 21,
   "id": "f97f7804-4f39-4a71-b20c-b01c4da45bbc",
   "metadata": {},
   "outputs": [
    {
     "data": {
      "text/plain": [
       "[Table(name='car_sales', database='test_user_112222_7_car_data', description=None, tableType='EXTERNAL', isTemporary=False),\n",
       " Table(name='car_installs', database='test_user_112222_7_car_data', description=None, tableType='EXTERNAL', isTemporary=False),\n",
       " Table(name='experimental_motors', database='test_user_112222_7_car_data', description=None, tableType='EXTERNAL', isTemporary=False),\n",
       " Table(name='customer_data', database='test_user_112222_7_car_data', description=None, tableType='EXTERNAL', isTemporary=False),\n",
       " Table(name='geo_data_xref', database='test_user_112222_7_car_data', description=None, tableType='EXTERNAL', isTemporary=False)]"
      ]
     },
     "execution_count": 21,
     "metadata": {},
     "output_type": "execute_result"
    }
   ],
   "source": [
    "spark.catalog.listTables(\"test_user_112222_7_car_data\")"
   ]
  },
  {
   "cell_type": "code",
   "execution_count": 25,
   "id": "b4f3c764-0e92-4045-8060-0a6501b2ac0c",
   "metadata": {},
   "outputs": [],
   "source": [
    "#---------------------------------------------------\n",
    "#               LOAD ICEBERG TABLES AS DATAFRAMES\n",
    "#---------------------------------------------------\n",
    "\n",
    "car_sales_df = spark.sql(\"SELECT * FROM spark_catalog.{}_CAR_DATA.CAR_SALES\".format(username))\n",
    "customer_data_df = spark.sql(\"SELECT * FROM spark_catalog.{}_CAR_DATA.CUSTOMER_DATA\".format(username))"
   ]
  },
  {
   "cell_type": "code",
   "execution_count": 26,
   "id": "9b5e0781-cedf-4cbf-a1c1-3240daae184c",
   "metadata": {},
   "outputs": [
    {
     "name": "stderr",
     "output_type": "stream",
     "text": [
      "[Stage 4:>                                                          (0 + 1) / 1]\r"
     ]
    },
    {
     "name": "stdout",
     "output_type": "stream",
     "text": [
      "+-----------+-------+---------+------------+----+---+-----+\n",
      "|customer_id|  model|saleprice|         VIN|year|day|month|\n",
      "+-----------+-------+---------+------------+----+---+-----+\n",
      "|        757|Model D| 86816.33|FRAWJ3W1V7VD|2020|  1|    5|\n",
      "|       3440|Model R|104767.17|98ARQ2NYWFTU|2020|  1|    5|\n",
      "|       6835|Model R|103947.16|2DJE665WEAR0|2020|  1|    5|\n",
      "|       7987|Model C| 76069.49|O6ZF8J9BK68E|2020|  1|    5|\n",
      "|       6841|Model R|107196.14|VPA418HA97H4|2020|  1|    5|\n",
      "|       3124|Model C| 76169.67|MWF83R4HEMP7|2020|  1|    5|\n",
      "|       7130|Model C| 69538.07|8MY2WYOF0BRW|2020|  1|    5|\n",
      "|       9337|Model C| 65121.16|QO02D43Q3H7A|2020|  1|    5|\n",
      "|       2132|Model R|100351.17|KJSAII9JSE5U|2020|  1|    5|\n",
      "|       3704|Model R|114747.34|JUM025D8Y75H|2020|  1|    5|\n",
      "|       8369|Model C| 75296.86|N66WIFFGTIGY|2020|  1|    5|\n",
      "|       5269|Model C| 70467.71|XTIFDI9HPQG7|2020|  1|    5|\n",
      "|       4784|Model D| 91009.55|NLT0YN474WGU|2020|  1|    5|\n",
      "|       5935|Model C| 77921.76|3PFV4R55SIHF|2020|  1|    5|\n",
      "|       2392|Model C| 81494.24|6ICPPVV69Q6U|2020|  1|    5|\n",
      "|       9601|Model C| 80621.08|Y66XZP9V8W3Q|2020|  1|    5|\n",
      "|       3287|Model R| 93236.14|Z5EJBR4QLBCZ|2020|  1|    5|\n",
      "|       2995|Model R|113715.66|HS143Q1LGHON|2020|  1|    5|\n",
      "|       7883|Model R|105956.16|5D03SONMC5JC|2020|  1|    5|\n",
      "|       4168|Model R|116372.09|X1M3YMZWNO45|2020|  1|    5|\n",
      "+-----------+-------+---------+------------+----+---+-----+\n",
      "only showing top 20 rows\n",
      "\n"
     ]
    },
    {
     "name": "stderr",
     "output_type": "stream",
     "text": [
      "                                                                                \r"
     ]
    }
   ],
   "source": [
    "car_sales_df.show()"
   ]
  },
  {
   "cell_type": "code",
   "execution_count": 15,
   "id": "84655aef-d440-4734-a41a-8704f173eab6",
   "metadata": {},
   "outputs": [
    {
     "name": "stdout",
     "output_type": "stream",
     "text": [
      "+-------------+---------+\n",
      "|      catalog|namespace|\n",
      "+-------------+---------+\n",
      "|spark_catalog|  default|\n",
      "+-------------+---------+\n",
      "\n"
     ]
    }
   ],
   "source": [
    "spark.sql(\"SHOW CURRENT NAMESPACE\").show()"
   ]
  },
  {
   "cell_type": "code",
   "execution_count": 16,
   "id": "f1ff1cfe-d376-4ee0-b9d6-c4f37f47f3c6",
   "metadata": {},
   "outputs": [
    {
     "name": "stderr",
     "output_type": "stream",
     "text": [
      "Hive Session ID = b9d47c43-f1ef-42ae-be99-c27c1117b893\n"
     ]
    },
    {
     "data": {
      "text/plain": [
       "DataFrame[]"
      ]
     },
     "execution_count": 16,
     "metadata": {},
     "output_type": "execute_result"
    }
   ],
   "source": [
    "spark.sql(\"USE spark_catalog.{}_CAR_DATA\".format(username))"
   ]
  },
  {
   "cell_type": "code",
   "execution_count": 18,
   "id": "d7581277-4a37-45cd-8622-8f3ca69946fe",
   "metadata": {},
   "outputs": [
    {
     "name": "stdout",
     "output_type": "stream",
     "text": [
      "+-------------+--------------------+\n",
      "|      catalog|           namespace|\n",
      "+-------------+--------------------+\n",
      "|spark_catalog|test_user_112222_...|\n",
      "+-------------+--------------------+\n",
      "\n"
     ]
    }
   ],
   "source": [
    "spark.sql(\"SHOW CURRENT NAMESPACE\").show()"
   ]
  },
  {
   "cell_type": "code",
   "execution_count": 10,
   "id": "bc64c5b8-1112-4158-a450-a056964398d1",
   "metadata": {},
   "outputs": [],
   "source": [
    "#spark.sql(\"SELECT * FROM spark_catalog.{}_CAR_DATA.CAR_SALES.history\".format(username)).show()"
   ]
  },
  {
   "cell_type": "code",
   "execution_count": 11,
   "id": "5920c793-217a-43f2-9022-fea20985bb6e",
   "metadata": {},
   "outputs": [
    {
     "name": "stdout",
     "output_type": "stream",
     "text": [
      "SHOW ICEBERG TABLE HISTORY\n",
      "SELECT * FROM spark_catalog.test_user_112222_7_CAR_DATA.CAR_SALES.history;\n"
     ]
    }
   ],
   "source": [
    "# ICEBERG TABLE HISTORY (SHOWS EACH SNAPSHOT AND TIMESTAMP)\n",
    "print(\"SHOW ICEBERG TABLE HISTORY\")\n",
    "print(\"SELECT * FROM spark_catalog.{}_CAR_DATA.CAR_SALES.history;\".format(username))\n",
    "#spark.sql(\"SELECT * FROM CAR_SALES.partitions;\".format(username)).show()"
   ]
  },
  {
   "cell_type": "code",
   "execution_count": 27,
   "id": "e67de713-179c-489b-9929-8711ad31d8a7",
   "metadata": {},
   "outputs": [
    {
     "ename": "AnalysisException",
     "evalue": "spark_catalog requires a single-part namespace, but got [test_user_112222_7_car_data, car_sales]",
     "output_type": "error",
     "traceback": [
      "\u001b[0;31m---------------------------------------------------------------------------\u001b[0m",
      "\u001b[0;31mAnalysisException\u001b[0m                         Traceback (most recent call last)",
      "\u001b[0;32m/tmp/ipykernel_234/2650903657.py\u001b[0m in \u001b[0;36m<module>\u001b[0;34m\u001b[0m\n\u001b[0;32m----> 1\u001b[0;31m \u001b[0mspark\u001b[0m\u001b[0;34m.\u001b[0m\u001b[0msql\u001b[0m\u001b[0;34m(\u001b[0m\u001b[0;34m\"SELECT * FROM spark_catalog.test_user_112222_7_car_data.car_sales.history;\"\u001b[0m\u001b[0;34m)\u001b[0m\u001b[0;34m\u001b[0m\u001b[0;34m\u001b[0m\u001b[0m\n\u001b[0m",
      "\u001b[0;32m/opt/spark/python/lib/pyspark.zip/pyspark/sql/session.py\u001b[0m in \u001b[0;36msql\u001b[0;34m(self, sqlQuery)\u001b[0m\n\u001b[1;32m    721\u001b[0m         \u001b[0;34m[\u001b[0m\u001b[0mRow\u001b[0m\u001b[0;34m(\u001b[0m\u001b[0mf1\u001b[0m\u001b[0;34m=\u001b[0m\u001b[0;36m1\u001b[0m\u001b[0;34m,\u001b[0m \u001b[0mf2\u001b[0m\u001b[0;34m=\u001b[0m\u001b[0;34m'row1'\u001b[0m\u001b[0;34m)\u001b[0m\u001b[0;34m,\u001b[0m \u001b[0mRow\u001b[0m\u001b[0;34m(\u001b[0m\u001b[0mf1\u001b[0m\u001b[0;34m=\u001b[0m\u001b[0;36m2\u001b[0m\u001b[0;34m,\u001b[0m \u001b[0mf2\u001b[0m\u001b[0;34m=\u001b[0m\u001b[0;34m'row2'\u001b[0m\u001b[0;34m)\u001b[0m\u001b[0;34m,\u001b[0m \u001b[0mRow\u001b[0m\u001b[0;34m(\u001b[0m\u001b[0mf1\u001b[0m\u001b[0;34m=\u001b[0m\u001b[0;36m3\u001b[0m\u001b[0;34m,\u001b[0m \u001b[0mf2\u001b[0m\u001b[0;34m=\u001b[0m\u001b[0;34m'row3'\u001b[0m\u001b[0;34m)\u001b[0m\u001b[0;34m]\u001b[0m\u001b[0;34m\u001b[0m\u001b[0;34m\u001b[0m\u001b[0m\n\u001b[1;32m    722\u001b[0m         \"\"\"\n\u001b[0;32m--> 723\u001b[0;31m         \u001b[0;32mreturn\u001b[0m \u001b[0mDataFrame\u001b[0m\u001b[0;34m(\u001b[0m\u001b[0mself\u001b[0m\u001b[0;34m.\u001b[0m\u001b[0m_jsparkSession\u001b[0m\u001b[0;34m.\u001b[0m\u001b[0msql\u001b[0m\u001b[0;34m(\u001b[0m\u001b[0msqlQuery\u001b[0m\u001b[0;34m)\u001b[0m\u001b[0;34m,\u001b[0m \u001b[0mself\u001b[0m\u001b[0;34m.\u001b[0m\u001b[0m_wrapped\u001b[0m\u001b[0;34m)\u001b[0m\u001b[0;34m\u001b[0m\u001b[0;34m\u001b[0m\u001b[0m\n\u001b[0m\u001b[1;32m    724\u001b[0m \u001b[0;34m\u001b[0m\u001b[0m\n\u001b[1;32m    725\u001b[0m     \u001b[0;32mdef\u001b[0m \u001b[0mtable\u001b[0m\u001b[0;34m(\u001b[0m\u001b[0mself\u001b[0m\u001b[0;34m,\u001b[0m \u001b[0mtableName\u001b[0m\u001b[0;34m)\u001b[0m\u001b[0;34m:\u001b[0m\u001b[0;34m\u001b[0m\u001b[0;34m\u001b[0m\u001b[0m\n",
      "\u001b[0;32m/usr/local/lib/python3.7/site-packages/py4j/java_gateway.py\u001b[0m in \u001b[0;36m__call__\u001b[0;34m(self, *args)\u001b[0m\n\u001b[1;32m   1303\u001b[0m         \u001b[0manswer\u001b[0m \u001b[0;34m=\u001b[0m \u001b[0mself\u001b[0m\u001b[0;34m.\u001b[0m\u001b[0mgateway_client\u001b[0m\u001b[0;34m.\u001b[0m\u001b[0msend_command\u001b[0m\u001b[0;34m(\u001b[0m\u001b[0mcommand\u001b[0m\u001b[0;34m)\u001b[0m\u001b[0;34m\u001b[0m\u001b[0;34m\u001b[0m\u001b[0m\n\u001b[1;32m   1304\u001b[0m         return_value = get_return_value(\n\u001b[0;32m-> 1305\u001b[0;31m             answer, self.gateway_client, self.target_id, self.name)\n\u001b[0m\u001b[1;32m   1306\u001b[0m \u001b[0;34m\u001b[0m\u001b[0m\n\u001b[1;32m   1307\u001b[0m         \u001b[0;32mfor\u001b[0m \u001b[0mtemp_arg\u001b[0m \u001b[0;32min\u001b[0m \u001b[0mtemp_args\u001b[0m\u001b[0;34m:\u001b[0m\u001b[0;34m\u001b[0m\u001b[0;34m\u001b[0m\u001b[0m\n",
      "\u001b[0;32m/opt/spark/python/lib/pyspark.zip/pyspark/sql/utils.py\u001b[0m in \u001b[0;36mdeco\u001b[0;34m(*a, **kw)\u001b[0m\n\u001b[1;32m    115\u001b[0m                 \u001b[0;31m# Hide where the exception came from that shows a non-Pythonic\u001b[0m\u001b[0;34m\u001b[0m\u001b[0;34m\u001b[0m\u001b[0;34m\u001b[0m\u001b[0m\n\u001b[1;32m    116\u001b[0m                 \u001b[0;31m# JVM exception message.\u001b[0m\u001b[0;34m\u001b[0m\u001b[0;34m\u001b[0m\u001b[0;34m\u001b[0m\u001b[0m\n\u001b[0;32m--> 117\u001b[0;31m                 \u001b[0;32mraise\u001b[0m \u001b[0mconverted\u001b[0m \u001b[0;32mfrom\u001b[0m \u001b[0;32mNone\u001b[0m\u001b[0;34m\u001b[0m\u001b[0;34m\u001b[0m\u001b[0m\n\u001b[0m\u001b[1;32m    118\u001b[0m             \u001b[0;32melse\u001b[0m\u001b[0;34m:\u001b[0m\u001b[0;34m\u001b[0m\u001b[0;34m\u001b[0m\u001b[0m\n\u001b[1;32m    119\u001b[0m                 \u001b[0;32mraise\u001b[0m\u001b[0;34m\u001b[0m\u001b[0;34m\u001b[0m\u001b[0m\n",
      "\u001b[0;31mAnalysisException\u001b[0m: spark_catalog requires a single-part namespace, but got [test_user_112222_7_car_data, car_sales]"
     ]
    }
   ],
   "source": [
    "spark.sql(\"SELECT * FROM spark_catalog.test_user_112222_7_car_data.car_sales.history;\")"
   ]
  },
  {
   "cell_type": "code",
   "execution_count": null,
   "id": "f06b7a51-2854-44fb-94de-596ac7c906c9",
   "metadata": {},
   "outputs": [],
   "source": []
  }
 ],
 "metadata": {
  "kernelspec": {
   "display_name": "Python 3 (ipykernel)",
   "language": "python",
   "name": "python3"
  },
  "language_info": {
   "codemirror_mode": {
    "name": "ipython",
    "version": 3
   },
   "file_extension": ".py",
   "mimetype": "text/x-python",
   "name": "python",
   "nbconvert_exporter": "python",
   "pygments_lexer": "ipython3",
   "version": "3.7.13"
  }
 },
 "nbformat": 4,
 "nbformat_minor": 5
}
