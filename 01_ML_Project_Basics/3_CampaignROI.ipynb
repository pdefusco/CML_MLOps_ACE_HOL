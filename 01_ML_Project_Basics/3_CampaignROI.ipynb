{
 "cells": [
  {
   "cell_type": "markdown",
   "metadata": {},
   "source": [
    "## Campaign ROI "
   ]
  },
  {
   "cell_type": "code",
   "execution_count": 1,
   "metadata": {},
   "outputs": [],
   "source": [
    "#!pip3 install numpy --upgrade"
   ]
  },
  {
   "cell_type": "code",
   "execution_count": 11,
   "metadata": {},
   "outputs": [],
   "source": [
    "import warnings\n",
    "warnings.filterwarnings('ignore')"
   ]
  },
  {
   "cell_type": "code",
   "execution_count": 12,
   "metadata": {},
   "outputs": [],
   "source": [
    "import pandas as pd\n",
    "import numpy as np\n",
    "import seaborn as sns\n",
    "import matplotlib.pyplot as plt \n",
    "import matplotlib as mpl"
   ]
  },
  {
   "cell_type": "code",
   "execution_count": 13,
   "metadata": {},
   "outputs": [],
   "source": [
    "# load the model from disk\n",
    "import pickle\n",
    "loaded_model = pickle.load(open('models/development_model.sav', 'rb'))"
   ]
  },
  {
   "cell_type": "code",
   "execution_count": 14,
   "metadata": {},
   "outputs": [],
   "source": [
    "#loaded_model.steps"
   ]
  },
  {
   "cell_type": "code",
   "execution_count": 15,
   "metadata": {},
   "outputs": [],
   "source": [
    "from sklearn.metrics import confusion_matrix"
   ]
  },
  {
   "cell_type": "code",
   "execution_count": 16,
   "metadata": {},
   "outputs": [],
   "source": [
    "X_train = pd.read_csv('../data/X_train.csv')\n",
    "X_test = pd.read_csv('../data/X_test.csv') \n",
    "y_train = pd.read_csv('../data/y_train.csv')\n",
    "y_test = pd.read_csv('../data/y_test.csv')"
   ]
  },
  {
   "cell_type": "code",
   "execution_count": 17,
   "metadata": {},
   "outputs": [],
   "source": [
    "y_pred = loaded_model.predict(X_test)"
   ]
  },
  {
   "cell_type": "code",
   "execution_count": 18,
   "metadata": {},
   "outputs": [],
   "source": [
    "y_pred_proba = loaded_model.predict_proba(X_test)"
   ]
  },
  {
   "cell_type": "code",
   "execution_count": 19,
   "metadata": {},
   "outputs": [],
   "source": [
    "y_pred_final =  pd.DataFrame(y_pred_proba, columns=['NoConversion', 'Conversion'])"
   ]
  },
  {
   "cell_type": "code",
   "execution_count": 20,
   "metadata": {},
   "outputs": [],
   "source": [
    "y_pred_final = y_pred_final.drop('NoConversion', axis=1)"
   ]
  },
  {
   "cell_type": "code",
   "execution_count": 21,
   "metadata": {},
   "outputs": [],
   "source": [
    "def predictions_threshold(y_proba, threshold):\n",
    "    y_proba['pred'] = [1 if pred > threshold else 0 for pred in y_proba['Conversion']]\n",
    "    return y_proba"
   ]
  },
  {
   "cell_type": "code",
   "execution_count": 22,
   "metadata": {},
   "outputs": [],
   "source": [
    "y_pred = predictions_threshold(y_pred_final, 0.5)['pred'].squeeze()"
   ]
  },
  {
   "cell_type": "code",
   "execution_count": 23,
   "metadata": {},
   "outputs": [],
   "source": [
    "cm = confusion_matrix(y_test, y_pred)"
   ]
  },
  {
   "cell_type": "code",
   "execution_count": null,
   "metadata": {},
   "outputs": [],
   "source": [
    "#print CM here"
   ]
  },
  {
   "cell_type": "code",
   "execution_count": 26,
   "metadata": {},
   "outputs": [],
   "source": [
    "def targeted_campaign_profit(cm, mrtk_unit_cost, fixed_campaign_cost, unit_revenue):\n",
    "    \n",
    "    #Collecting true and false positives\n",
    "    fp = cm[0,1]\n",
    "    tp = cm[1,1]\n",
    "    \n",
    "    #Calculating Revenue\n",
    "    rev = tp*unit_revenue\n",
    "    #Calculating Costs:\n",
    "    costs = (fp+tp)*mrtk_unit_cost + fixed_campaign_cost\n",
    "    #Calculating Profit:\n",
    "    campaign_profit = rev - costs\n",
    "    \n",
    "    return campaign_profit"
   ]
  },
  {
   "cell_type": "code",
   "execution_count": 27,
   "metadata": {},
   "outputs": [
    {
     "name": "stdout",
     "output_type": "stream",
     "text": [
      "Estimated Targeted Campaign ROI\n"
     ]
    },
    {
     "data": {
      "text/plain": [
       "490300"
      ]
     },
     "execution_count": 27,
     "metadata": {},
     "output_type": "execute_result"
    }
   ],
   "source": [
    "print(\"Estimated Targeted Campaign ROI\")\n",
    "targeted_campaign_profit(cm, 10, 200, 300)"
   ]
  },
  {
   "cell_type": "code",
   "execution_count": 28,
   "metadata": {},
   "outputs": [],
   "source": [
    "def blast_campaign_profit(y_test, mrtk_unit_cost, fixed_campaign_cost, unit_revenue):\n",
    "    \n",
    "    #Collecting true and false positives\n",
    "    y_accepted = y_test.sum()\n",
    "    y_denied = y_test.shape[0] - y_accepted\n",
    "    \n",
    "    #Calculating Revenue\n",
    "    rev = y_accepted*unit_revenue\n",
    "    #Calculating Costs:\n",
    "    costs = (y_denied+y_accepted)*mrtk_unit_cost + fixed_campaign_cost\n",
    "    #Calculating Profit:\n",
    "    campaign_profit = rev - costs\n",
    "    \n",
    "    return campaign_profit[0]"
   ]
  },
  {
   "cell_type": "code",
   "execution_count": 29,
   "metadata": {},
   "outputs": [
    {
     "name": "stdout",
     "output_type": "stream",
     "text": [
      "Estimated Blast Campaign ROI\n"
     ]
    },
    {
     "data": {
      "text/plain": [
       "435500"
      ]
     },
     "execution_count": 29,
     "metadata": {},
     "output_type": "execute_result"
    }
   ],
   "source": [
    "print(\"Estimated Blast Campaign ROI\")\n",
    "blast_campaign_profit(y_test, 10, 200, 300)"
   ]
  },
  {
   "cell_type": "markdown",
   "metadata": {},
   "source": [
    "Changing Decision Threshold"
   ]
  },
  {
   "cell_type": "code",
   "execution_count": 30,
   "metadata": {},
   "outputs": [],
   "source": [
    "y_pred = predictions_threshold(y_pred_final, 0.3)['pred'].squeeze()"
   ]
  },
  {
   "cell_type": "code",
   "execution_count": 31,
   "metadata": {},
   "outputs": [],
   "source": [
    "cm = confusion_matrix(y_test, y_pred)"
   ]
  },
  {
   "cell_type": "code",
   "execution_count": 34,
   "metadata": {},
   "outputs": [],
   "source": [
    "#pretty_plot_confusion_matrix(pd.DataFrame(cm, columns=['pred_neg', 'pred_pos'], \n",
    "#                       index=['neg', 'pos']), figsize=[5,4])\n",
    "#plt.show()"
   ]
  },
  {
   "cell_type": "code",
   "execution_count": 35,
   "metadata": {},
   "outputs": [
    {
     "name": "stdout",
     "output_type": "stream",
     "text": [
      "Estimated Targeted Campaign ROI\n"
     ]
    },
    {
     "data": {
      "text/plain": [
       "498880"
      ]
     },
     "execution_count": 35,
     "metadata": {},
     "output_type": "execute_result"
    }
   ],
   "source": [
    "print(\"Estimated Targeted Campaign ROI\")\n",
    "targeted_campaign_profit(cm, 10, 200, 300)"
   ]
  },
  {
   "cell_type": "code",
   "execution_count": 36,
   "metadata": {},
   "outputs": [
    {
     "name": "stdout",
     "output_type": "stream",
     "text": [
      "Estimated Blast Campaign ROI\n"
     ]
    },
    {
     "data": {
      "text/plain": [
       "435500"
      ]
     },
     "execution_count": 36,
     "metadata": {},
     "output_type": "execute_result"
    }
   ],
   "source": [
    "print(\"Estimated Blast Campaign ROI\")\n",
    "blast_campaign_profit(y_test, 10, 200, 300)"
   ]
  },
  {
   "cell_type": "code",
   "execution_count": 37,
   "metadata": {},
   "outputs": [],
   "source": [
    "def profit_by_threshold(y_pred_final, y_test, threshold, unit_cost, fixed_cost, unit_revenue):\n",
    "    \n",
    "    y_pred = predictions_threshold(y_pred_final, threshold)['pred'].squeeze()\n",
    "    cm = confusion_matrix(y_test, y_pred)\n",
    "    \n",
    "    b_camp_profit = blast_campaign_profit(y_test, unit_cost, fixed_cost, unit_revenue)\n",
    "    t_camp_profit = targeted_campaign_profit(cm, unit_cost, fixed_cost, unit_revenue) \n",
    "    \n",
    "    return b_camp_profit, t_camp_profit"
   ]
  },
  {
   "cell_type": "code",
   "execution_count": 38,
   "metadata": {},
   "outputs": [],
   "source": [
    "def draw_profit_curves(y_pred_final, y_test, unit_cost, fixed_cost, unit_revenue):\n",
    "    \n",
    "    curves_df = []\n",
    "    \n",
    "    for threshold in np.arange(0,1,.1):\n",
    "        \n",
    "        b_camp_profit, t_camp_profit = profit_by_threshold(y_pred_final, y_test, threshold, \n",
    "                                                           unit_cost, fixed_cost, unit_revenue)\n",
    "        \n",
    "        curves_df.append((b_camp_profit, t_camp_profit, threshold))\n",
    "    \n",
    "    return pd.DataFrame(curves_df, columns=['blast_profit', 'targeted_profit', 'threshold'])"
   ]
  },
  {
   "cell_type": "code",
   "execution_count": 39,
   "metadata": {},
   "outputs": [],
   "source": [
    "df = draw_profit_curves(y_pred_final, y_test, 10, 5000, 300)"
   ]
  },
  {
   "cell_type": "code",
   "execution_count": 40,
   "metadata": {},
   "outputs": [
    {
     "data": {
      "text/html": [
       "<div>\n",
       "<style scoped>\n",
       "    .dataframe tbody tr th:only-of-type {\n",
       "        vertical-align: middle;\n",
       "    }\n",
       "\n",
       "    .dataframe tbody tr th {\n",
       "        vertical-align: top;\n",
       "    }\n",
       "\n",
       "    .dataframe thead th {\n",
       "        text-align: right;\n",
       "    }\n",
       "</style>\n",
       "<table border=\"1\" class=\"dataframe\">\n",
       "  <thead>\n",
       "    <tr style=\"text-align: right;\">\n",
       "      <th></th>\n",
       "      <th>blast_profit</th>\n",
       "      <th>targeted_profit</th>\n",
       "      <th>threshold</th>\n",
       "    </tr>\n",
       "  </thead>\n",
       "  <tbody>\n",
       "    <tr>\n",
       "      <td>0</td>\n",
       "      <td>430700</td>\n",
       "      <td>430700</td>\n",
       "      <td>0.0</td>\n",
       "    </tr>\n",
       "    <tr>\n",
       "      <td>1</td>\n",
       "      <td>430700</td>\n",
       "      <td>485590</td>\n",
       "      <td>0.1</td>\n",
       "    </tr>\n",
       "    <tr>\n",
       "      <td>2</td>\n",
       "      <td>430700</td>\n",
       "      <td>492140</td>\n",
       "      <td>0.2</td>\n",
       "    </tr>\n",
       "    <tr>\n",
       "      <td>3</td>\n",
       "      <td>430700</td>\n",
       "      <td>494080</td>\n",
       "      <td>0.3</td>\n",
       "    </tr>\n",
       "    <tr>\n",
       "      <td>4</td>\n",
       "      <td>430700</td>\n",
       "      <td>491040</td>\n",
       "      <td>0.4</td>\n",
       "    </tr>\n",
       "    <tr>\n",
       "      <td>5</td>\n",
       "      <td>430700</td>\n",
       "      <td>485500</td>\n",
       "      <td>0.5</td>\n",
       "    </tr>\n",
       "    <tr>\n",
       "      <td>6</td>\n",
       "      <td>430700</td>\n",
       "      <td>475070</td>\n",
       "      <td>0.6</td>\n",
       "    </tr>\n",
       "    <tr>\n",
       "      <td>7</td>\n",
       "      <td>430700</td>\n",
       "      <td>462280</td>\n",
       "      <td>0.7</td>\n",
       "    </tr>\n",
       "    <tr>\n",
       "      <td>8</td>\n",
       "      <td>430700</td>\n",
       "      <td>439970</td>\n",
       "      <td>0.8</td>\n",
       "    </tr>\n",
       "    <tr>\n",
       "      <td>9</td>\n",
       "      <td>430700</td>\n",
       "      <td>391490</td>\n",
       "      <td>0.9</td>\n",
       "    </tr>\n",
       "  </tbody>\n",
       "</table>\n",
       "</div>"
      ],
      "text/plain": [
       "   blast_profit  targeted_profit  threshold\n",
       "0        430700           430700        0.0\n",
       "1        430700           485590        0.1\n",
       "2        430700           492140        0.2\n",
       "3        430700           494080        0.3\n",
       "4        430700           491040        0.4\n",
       "5        430700           485500        0.5\n",
       "6        430700           475070        0.6\n",
       "7        430700           462280        0.7\n",
       "8        430700           439970        0.8\n",
       "9        430700           391490        0.9"
      ]
     },
     "execution_count": 40,
     "metadata": {},
     "output_type": "execute_result"
    }
   ],
   "source": [
    "df"
   ]
  },
  {
   "cell_type": "code",
   "execution_count": 47,
   "metadata": {},
   "outputs": [],
   "source": [
    "df.to_csv('../data/campaign_profit.csv', index=False)\n",
    "y_test.to_csv('../data/y_test.csv', index=False)\n",
    "y_pred_final.to_csv('../data/y_pred_final.csv', index=False)"
   ]
  },
  {
   "cell_type": "code",
   "execution_count": 48,
   "metadata": {},
   "outputs": [
    {
     "data": {
      "image/png": "[encoded data removed]",
      "text/plain": [
       "<Figure size 432x288 with 1 Axes>"
      ]
     },
     "metadata": {
      "needs_background": "light"
     },
     "output_type": "display_data"
    }
   ],
   "source": [
    "df[['blast_profit', 'targeted_profit']].plot(title='Campaign Profit - Targeted vs All Database Customers')\n",
    "plt.xlabel('Decision Threshold for Gradient Boosting Classifier')\n",
    "plt.ylabel('USD')\n",
    "plt.show()"
   ]
  },
  {
   "cell_type": "markdown",
   "metadata": {},
   "source": [
    "### We would pick a decision threshold such that the orange line is at its peak"
   ]
  },
  {
   "cell_type": "markdown",
   "metadata": {},
   "source": [
    "### This is roughly at 0.2 \n",
    "### We create a new Confusion Matrix to see what that might look like"
   ]
  },
  {
   "cell_type": "code",
   "execution_count": 43,
   "metadata": {},
   "outputs": [],
   "source": [
    "y_pred = predictions_threshold(y_pred_final, 0.2)['pred'].squeeze()"
   ]
  },
  {
   "cell_type": "code",
   "execution_count": 44,
   "metadata": {},
   "outputs": [],
   "source": [
    "cm = confusion_matrix(y_test, y_pred)"
   ]
  },
  {
   "cell_type": "code",
   "execution_count": 46,
   "metadata": {},
   "outputs": [],
   "source": [
    "#pretty_plot_confusion_matrix(pd.DataFrame(cm, columns=['pred_neg', 'pred_pos'], \n",
    "#                       index=['neg', 'pos']), figsize=[5,4])\n",
    "#plt.show()"
   ]
  },
  {
   "cell_type": "code",
   "execution_count": null,
   "metadata": {},
   "outputs": [],
   "source": []
  }
 ],
 "metadata": {
  "kernelspec": {
   "display_name": "Python 3 (ipykernel)",
   "language": "python",
   "name": "python3"
  },
  "language_info": {
   "codemirror_mode": {
    "name": "ipython",
    "version": 3
   },
   "file_extension": ".py",
   "mimetype": "text/x-python",
   "name": "python",
   "nbconvert_exporter": "python",
   "pygments_lexer": "ipython3",
   "version": "3.7.13"
  }
 },
 "nbformat": 4,
 "nbformat_minor": 4
}
