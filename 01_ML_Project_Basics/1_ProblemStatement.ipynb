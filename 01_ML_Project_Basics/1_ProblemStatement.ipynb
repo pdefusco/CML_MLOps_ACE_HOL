{
 "cells": [
  {
   "cell_type": "markdown",
   "metadata": {},
   "source": [
    "# Problem Statement"
   ]
  },
  {
   "cell_type": "code",
   "execution_count": 1,
   "metadata": {},
   "outputs": [],
   "source": [
    "import pandas as pd\n",
    "import numpy as np\n",
    "from sklearn.linear_model import LogisticRegression\n",
    "from sklearn.model_selection import train_test_split\n",
    "from sklearn.metrics import accuracy_score\n",
    "from sklearn.metrics import confusion_matrix\n",
    "import matplotlib as mpl\n",
    "import matplotlib.pyplot as plt\n",
    "import seaborn as sns"
   ]
  },
  {
   "cell_type": "code",
   "execution_count": 6,
   "metadata": {},
   "outputs": [],
   "source": [
    "df = pd.read_csv('../data/data.csv')"
   ]
  },
  {
   "cell_type": "code",
   "execution_count": 7,
   "metadata": {},
   "outputs": [
    {
     "data": {
      "text/html": [
       "<div>\n",
       "<style scoped>\n",
       "    .dataframe tbody tr th:only-of-type {\n",
       "        vertical-align: middle;\n",
       "    }\n",
       "\n",
       "    .dataframe tbody tr th {\n",
       "        vertical-align: top;\n",
       "    }\n",
       "\n",
       "    .dataframe thead th {\n",
       "        text-align: right;\n",
       "    }\n",
       "</style>\n",
       "<table border=\"1\" class=\"dataframe\">\n",
       "  <thead>\n",
       "    <tr style=\"text-align: right;\">\n",
       "      <th></th>\n",
       "      <th>name</th>\n",
       "      <th>street_address</th>\n",
       "      <th>city</th>\n",
       "      <th>postcode</th>\n",
       "      <th>phone_number</th>\n",
       "      <th>job</th>\n",
       "      <th>recency</th>\n",
       "      <th>history</th>\n",
       "      <th>used_discount</th>\n",
       "      <th>used_bogo</th>\n",
       "      <th>zip_code</th>\n",
       "      <th>is_referral</th>\n",
       "      <th>channel</th>\n",
       "      <th>offer</th>\n",
       "      <th>conversion</th>\n",
       "      <th>score</th>\n",
       "    </tr>\n",
       "  </thead>\n",
       "  <tbody>\n",
       "    <tr>\n",
       "      <td>0</td>\n",
       "      <td>Shane Davis</td>\n",
       "      <td>650 Reyes Square</td>\n",
       "      <td>New Brad</td>\n",
       "      <td>9930</td>\n",
       "      <td>486.414.3551x5061</td>\n",
       "      <td>Financial trader</td>\n",
       "      <td>10</td>\n",
       "      <td>142.44</td>\n",
       "      <td>1</td>\n",
       "      <td>0</td>\n",
       "      <td>Surburban</td>\n",
       "      <td>0</td>\n",
       "      <td>Phone</td>\n",
       "      <td>Buy One Get One</td>\n",
       "      <td>0</td>\n",
       "      <td>0.678715</td>\n",
       "    </tr>\n",
       "    <tr>\n",
       "      <td>1</td>\n",
       "      <td>Thomas Fuentes</td>\n",
       "      <td>15482 Anderson Square</td>\n",
       "      <td>Lake Linda</td>\n",
       "      <td>59437</td>\n",
       "      <td>489-096-2389x743</td>\n",
       "      <td>Chiropractor</td>\n",
       "      <td>6</td>\n",
       "      <td>329.08</td>\n",
       "      <td>1</td>\n",
       "      <td>1</td>\n",
       "      <td>Rural</td>\n",
       "      <td>1</td>\n",
       "      <td>Web</td>\n",
       "      <td>No Offer</td>\n",
       "      <td>0</td>\n",
       "      <td>0.961538</td>\n",
       "    </tr>\n",
       "    <tr>\n",
       "      <td>2</td>\n",
       "      <td>Sarah Tucker</td>\n",
       "      <td>0709 Maria Drive</td>\n",
       "      <td>New Melissaside</td>\n",
       "      <td>63241</td>\n",
       "      <td>(832)022-5573x275</td>\n",
       "      <td>Programmer, multimedia</td>\n",
       "      <td>7</td>\n",
       "      <td>180.65</td>\n",
       "      <td>0</td>\n",
       "      <td>1</td>\n",
       "      <td>Surburban</td>\n",
       "      <td>1</td>\n",
       "      <td>Web</td>\n",
       "      <td>Buy One Get One</td>\n",
       "      <td>0</td>\n",
       "      <td>0.205998</td>\n",
       "    </tr>\n",
       "    <tr>\n",
       "      <td>3</td>\n",
       "      <td>Greg Nguyen</td>\n",
       "      <td>330 Jason Square</td>\n",
       "      <td>Kendraville</td>\n",
       "      <td>73418</td>\n",
       "      <td>557-122-4652x76680</td>\n",
       "      <td>Youth worker</td>\n",
       "      <td>9</td>\n",
       "      <td>675.83</td>\n",
       "      <td>1</td>\n",
       "      <td>0</td>\n",
       "      <td>Rural</td>\n",
       "      <td>1</td>\n",
       "      <td>Web</td>\n",
       "      <td>Discount</td>\n",
       "      <td>0</td>\n",
       "      <td>1.216920</td>\n",
       "    </tr>\n",
       "    <tr>\n",
       "      <td>4</td>\n",
       "      <td>Mrs. Amy Gray</td>\n",
       "      <td>1384 Hall Manor Suite 170</td>\n",
       "      <td>Stevensland</td>\n",
       "      <td>51007</td>\n",
       "      <td>001-623-997-5852x71616</td>\n",
       "      <td>Land/geomatics surveyor</td>\n",
       "      <td>2</td>\n",
       "      <td>45.34</td>\n",
       "      <td>1</td>\n",
       "      <td>0</td>\n",
       "      <td>Urban</td>\n",
       "      <td>0</td>\n",
       "      <td>Web</td>\n",
       "      <td>Buy One Get One</td>\n",
       "      <td>0</td>\n",
       "      <td>1.389221</td>\n",
       "    </tr>\n",
       "    <tr>\n",
       "      <td>...</td>\n",
       "      <td>...</td>\n",
       "      <td>...</td>\n",
       "      <td>...</td>\n",
       "      <td>...</td>\n",
       "      <td>...</td>\n",
       "      <td>...</td>\n",
       "      <td>...</td>\n",
       "      <td>...</td>\n",
       "      <td>...</td>\n",
       "      <td>...</td>\n",
       "      <td>...</td>\n",
       "      <td>...</td>\n",
       "      <td>...</td>\n",
       "      <td>...</td>\n",
       "      <td>...</td>\n",
       "      <td>...</td>\n",
       "    </tr>\n",
       "    <tr>\n",
       "      <td>63995</td>\n",
       "      <td>Daniel Robles</td>\n",
       "      <td>42981 Bass Locks</td>\n",
       "      <td>Turnerfurt</td>\n",
       "      <td>28905</td>\n",
       "      <td>001-122-661-3301x366</td>\n",
       "      <td>Ambulance person</td>\n",
       "      <td>10</td>\n",
       "      <td>105.54</td>\n",
       "      <td>1</td>\n",
       "      <td>0</td>\n",
       "      <td>Urban</td>\n",
       "      <td>0</td>\n",
       "      <td>Web</td>\n",
       "      <td>Discount</td>\n",
       "      <td>0</td>\n",
       "      <td>1.011057</td>\n",
       "    </tr>\n",
       "    <tr>\n",
       "      <td>63996</td>\n",
       "      <td>Amanda Brown</td>\n",
       "      <td>58179 Jennifer Circles</td>\n",
       "      <td>Whitetown</td>\n",
       "      <td>38896</td>\n",
       "      <td>482-237-2940x236</td>\n",
       "      <td>Careers adviser</td>\n",
       "      <td>5</td>\n",
       "      <td>38.91</td>\n",
       "      <td>0</td>\n",
       "      <td>1</td>\n",
       "      <td>Urban</td>\n",
       "      <td>1</td>\n",
       "      <td>Phone</td>\n",
       "      <td>Discount</td>\n",
       "      <td>0</td>\n",
       "      <td>0.884910</td>\n",
       "    </tr>\n",
       "    <tr>\n",
       "      <td>63997</td>\n",
       "      <td>Michelle Frost</td>\n",
       "      <td>6009 Ford Island</td>\n",
       "      <td>Port Leonard</td>\n",
       "      <td>43293</td>\n",
       "      <td>001-950-520-9754</td>\n",
       "      <td>Music therapist</td>\n",
       "      <td>6</td>\n",
       "      <td>29.99</td>\n",
       "      <td>1</td>\n",
       "      <td>0</td>\n",
       "      <td>Urban</td>\n",
       "      <td>1</td>\n",
       "      <td>Phone</td>\n",
       "      <td>Discount</td>\n",
       "      <td>0</td>\n",
       "      <td>1.601580</td>\n",
       "    </tr>\n",
       "    <tr>\n",
       "      <td>63998</td>\n",
       "      <td>Lisa Avila</td>\n",
       "      <td>89102 Strickland Ports Apt. 911</td>\n",
       "      <td>Lynchborough</td>\n",
       "      <td>20440</td>\n",
       "      <td>+1-026-067-9202x1069</td>\n",
       "      <td>Dancer</td>\n",
       "      <td>1</td>\n",
       "      <td>552.94</td>\n",
       "      <td>1</td>\n",
       "      <td>0</td>\n",
       "      <td>Surburban</td>\n",
       "      <td>1</td>\n",
       "      <td>Multichannel</td>\n",
       "      <td>Buy One Get One</td>\n",
       "      <td>0</td>\n",
       "      <td>1.245146</td>\n",
       "    </tr>\n",
       "    <tr>\n",
       "      <td>63999</td>\n",
       "      <td>Dennis Owens</td>\n",
       "      <td>433 Tyler Junction Suite 592</td>\n",
       "      <td>Torrestown</td>\n",
       "      <td>42101</td>\n",
       "      <td>001-475-743-1424x51677</td>\n",
       "      <td>Fine artist</td>\n",
       "      <td>1</td>\n",
       "      <td>472.82</td>\n",
       "      <td>0</td>\n",
       "      <td>1</td>\n",
       "      <td>Surburban</td>\n",
       "      <td>0</td>\n",
       "      <td>Web</td>\n",
       "      <td>Discount</td>\n",
       "      <td>0</td>\n",
       "      <td>1.702748</td>\n",
       "    </tr>\n",
       "  </tbody>\n",
       "</table>\n",
       "<p>64000 rows × 16 columns</p>\n",
       "</div>"
      ],
      "text/plain": [
       "                 name                   street_address             city  \\\n",
       "0         Shane Davis                 650 Reyes Square         New Brad   \n",
       "1      Thomas Fuentes            15482 Anderson Square       Lake Linda   \n",
       "2        Sarah Tucker                 0709 Maria Drive  New Melissaside   \n",
       "3         Greg Nguyen                 330 Jason Square      Kendraville   \n",
       "4       Mrs. Amy Gray        1384 Hall Manor Suite 170      Stevensland   \n",
       "...               ...                              ...              ...   \n",
       "63995   Daniel Robles                 42981 Bass Locks       Turnerfurt   \n",
       "63996    Amanda Brown           58179 Jennifer Circles        Whitetown   \n",
       "63997  Michelle Frost                 6009 Ford Island     Port Leonard   \n",
       "63998      Lisa Avila  89102 Strickland Ports Apt. 911     Lynchborough   \n",
       "63999    Dennis Owens     433 Tyler Junction Suite 592       Torrestown   \n",
       "\n",
       "       postcode            phone_number                      job  recency  \\\n",
       "0          9930       486.414.3551x5061         Financial trader       10   \n",
       "1         59437        489-096-2389x743             Chiropractor        6   \n",
       "2         63241       (832)022-5573x275   Programmer, multimedia        7   \n",
       "3         73418      557-122-4652x76680             Youth worker        9   \n",
       "4         51007  001-623-997-5852x71616  Land/geomatics surveyor        2   \n",
       "...         ...                     ...                      ...      ...   \n",
       "63995     28905    001-122-661-3301x366         Ambulance person       10   \n",
       "63996     38896        482-237-2940x236          Careers adviser        5   \n",
       "63997     43293        001-950-520-9754          Music therapist        6   \n",
       "63998     20440    +1-026-067-9202x1069                   Dancer        1   \n",
       "63999     42101  001-475-743-1424x51677              Fine artist        1   \n",
       "\n",
       "       history  used_discount  used_bogo   zip_code  is_referral  \\\n",
       "0       142.44              1          0  Surburban            0   \n",
       "1       329.08              1          1      Rural            1   \n",
       "2       180.65              0          1  Surburban            1   \n",
       "3       675.83              1          0      Rural            1   \n",
       "4        45.34              1          0      Urban            0   \n",
       "...        ...            ...        ...        ...          ...   \n",
       "63995   105.54              1          0      Urban            0   \n",
       "63996    38.91              0          1      Urban            1   \n",
       "63997    29.99              1          0      Urban            1   \n",
       "63998   552.94              1          0  Surburban            1   \n",
       "63999   472.82              0          1  Surburban            0   \n",
       "\n",
       "            channel            offer  conversion     score  \n",
       "0             Phone  Buy One Get One           0  0.678715  \n",
       "1               Web         No Offer           0  0.961538  \n",
       "2               Web  Buy One Get One           0  0.205998  \n",
       "3               Web         Discount           0  1.216920  \n",
       "4               Web  Buy One Get One           0  1.389221  \n",
       "...             ...              ...         ...       ...  \n",
       "63995           Web         Discount           0  1.011057  \n",
       "63996         Phone         Discount           0  0.884910  \n",
       "63997         Phone         Discount           0  1.601580  \n",
       "63998  Multichannel  Buy One Get One           0  1.245146  \n",
       "63999           Web         Discount           0  1.702748  \n",
       "\n",
       "[64000 rows x 16 columns]"
      ]
     },
     "execution_count": 7,
     "metadata": {},
     "output_type": "execute_result"
    }
   ],
   "source": [
    "df"
   ]
  },
  {
   "cell_type": "code",
   "execution_count": 8,
   "metadata": {},
   "outputs": [],
   "source": [
    "df = df[['recency', 'history', 'used_discount', 'used_bogo', 'is_referral', 'channel', 'offer', 'conversion', 'score']]"
   ]
  },
  {
   "cell_type": "code",
   "execution_count": 9,
   "metadata": {},
   "outputs": [
    {
     "data": {
      "text/html": [
       "<div>\n",
       "<style scoped>\n",
       "    .dataframe tbody tr th:only-of-type {\n",
       "        vertical-align: middle;\n",
       "    }\n",
       "\n",
       "    .dataframe tbody tr th {\n",
       "        vertical-align: top;\n",
       "    }\n",
       "\n",
       "    .dataframe thead th {\n",
       "        text-align: right;\n",
       "    }\n",
       "</style>\n",
       "<table border=\"1\" class=\"dataframe\">\n",
       "  <thead>\n",
       "    <tr style=\"text-align: right;\">\n",
       "      <th></th>\n",
       "      <th>recency</th>\n",
       "      <th>history</th>\n",
       "      <th>used_discount</th>\n",
       "      <th>used_bogo</th>\n",
       "      <th>is_referral</th>\n",
       "      <th>channel</th>\n",
       "      <th>offer</th>\n",
       "      <th>conversion</th>\n",
       "      <th>score</th>\n",
       "    </tr>\n",
       "  </thead>\n",
       "  <tbody>\n",
       "    <tr>\n",
       "      <td>0</td>\n",
       "      <td>10</td>\n",
       "      <td>142.44</td>\n",
       "      <td>1</td>\n",
       "      <td>0</td>\n",
       "      <td>0</td>\n",
       "      <td>Phone</td>\n",
       "      <td>Buy One Get One</td>\n",
       "      <td>0</td>\n",
       "      <td>0.678715</td>\n",
       "    </tr>\n",
       "    <tr>\n",
       "      <td>1</td>\n",
       "      <td>6</td>\n",
       "      <td>329.08</td>\n",
       "      <td>1</td>\n",
       "      <td>1</td>\n",
       "      <td>1</td>\n",
       "      <td>Web</td>\n",
       "      <td>No Offer</td>\n",
       "      <td>0</td>\n",
       "      <td>0.961538</td>\n",
       "    </tr>\n",
       "    <tr>\n",
       "      <td>2</td>\n",
       "      <td>7</td>\n",
       "      <td>180.65</td>\n",
       "      <td>0</td>\n",
       "      <td>1</td>\n",
       "      <td>1</td>\n",
       "      <td>Web</td>\n",
       "      <td>Buy One Get One</td>\n",
       "      <td>0</td>\n",
       "      <td>0.205998</td>\n",
       "    </tr>\n",
       "    <tr>\n",
       "      <td>3</td>\n",
       "      <td>9</td>\n",
       "      <td>675.83</td>\n",
       "      <td>1</td>\n",
       "      <td>0</td>\n",
       "      <td>1</td>\n",
       "      <td>Web</td>\n",
       "      <td>Discount</td>\n",
       "      <td>0</td>\n",
       "      <td>1.216920</td>\n",
       "    </tr>\n",
       "    <tr>\n",
       "      <td>4</td>\n",
       "      <td>2</td>\n",
       "      <td>45.34</td>\n",
       "      <td>1</td>\n",
       "      <td>0</td>\n",
       "      <td>0</td>\n",
       "      <td>Web</td>\n",
       "      <td>Buy One Get One</td>\n",
       "      <td>0</td>\n",
       "      <td>1.389221</td>\n",
       "    </tr>\n",
       "    <tr>\n",
       "      <td>...</td>\n",
       "      <td>...</td>\n",
       "      <td>...</td>\n",
       "      <td>...</td>\n",
       "      <td>...</td>\n",
       "      <td>...</td>\n",
       "      <td>...</td>\n",
       "      <td>...</td>\n",
       "      <td>...</td>\n",
       "      <td>...</td>\n",
       "    </tr>\n",
       "    <tr>\n",
       "      <td>63995</td>\n",
       "      <td>10</td>\n",
       "      <td>105.54</td>\n",
       "      <td>1</td>\n",
       "      <td>0</td>\n",
       "      <td>0</td>\n",
       "      <td>Web</td>\n",
       "      <td>Discount</td>\n",
       "      <td>0</td>\n",
       "      <td>1.011057</td>\n",
       "    </tr>\n",
       "    <tr>\n",
       "      <td>63996</td>\n",
       "      <td>5</td>\n",
       "      <td>38.91</td>\n",
       "      <td>0</td>\n",
       "      <td>1</td>\n",
       "      <td>1</td>\n",
       "      <td>Phone</td>\n",
       "      <td>Discount</td>\n",
       "      <td>0</td>\n",
       "      <td>0.884910</td>\n",
       "    </tr>\n",
       "    <tr>\n",
       "      <td>63997</td>\n",
       "      <td>6</td>\n",
       "      <td>29.99</td>\n",
       "      <td>1</td>\n",
       "      <td>0</td>\n",
       "      <td>1</td>\n",
       "      <td>Phone</td>\n",
       "      <td>Discount</td>\n",
       "      <td>0</td>\n",
       "      <td>1.601580</td>\n",
       "    </tr>\n",
       "    <tr>\n",
       "      <td>63998</td>\n",
       "      <td>1</td>\n",
       "      <td>552.94</td>\n",
       "      <td>1</td>\n",
       "      <td>0</td>\n",
       "      <td>1</td>\n",
       "      <td>Multichannel</td>\n",
       "      <td>Buy One Get One</td>\n",
       "      <td>0</td>\n",
       "      <td>1.245146</td>\n",
       "    </tr>\n",
       "    <tr>\n",
       "      <td>63999</td>\n",
       "      <td>1</td>\n",
       "      <td>472.82</td>\n",
       "      <td>0</td>\n",
       "      <td>1</td>\n",
       "      <td>0</td>\n",
       "      <td>Web</td>\n",
       "      <td>Discount</td>\n",
       "      <td>0</td>\n",
       "      <td>1.702748</td>\n",
       "    </tr>\n",
       "  </tbody>\n",
       "</table>\n",
       "<p>64000 rows × 9 columns</p>\n",
       "</div>"
      ],
      "text/plain": [
       "       recency  history  used_discount  used_bogo  is_referral       channel  \\\n",
       "0           10   142.44              1          0            0         Phone   \n",
       "1            6   329.08              1          1            1           Web   \n",
       "2            7   180.65              0          1            1           Web   \n",
       "3            9   675.83              1          0            1           Web   \n",
       "4            2    45.34              1          0            0           Web   \n",
       "...        ...      ...            ...        ...          ...           ...   \n",
       "63995       10   105.54              1          0            0           Web   \n",
       "63996        5    38.91              0          1            1         Phone   \n",
       "63997        6    29.99              1          0            1         Phone   \n",
       "63998        1   552.94              1          0            1  Multichannel   \n",
       "63999        1   472.82              0          1            0           Web   \n",
       "\n",
       "                 offer  conversion     score  \n",
       "0      Buy One Get One           0  0.678715  \n",
       "1             No Offer           0  0.961538  \n",
       "2      Buy One Get One           0  0.205998  \n",
       "3             Discount           0  1.216920  \n",
       "4      Buy One Get One           0  1.389221  \n",
       "...                ...         ...       ...  \n",
       "63995         Discount           0  1.011057  \n",
       "63996         Discount           0  0.884910  \n",
       "63997         Discount           0  1.601580  \n",
       "63998  Buy One Get One           0  1.245146  \n",
       "63999         Discount           0  1.702748  \n",
       "\n",
       "[64000 rows x 9 columns]"
      ]
     },
     "execution_count": 9,
     "metadata": {},
     "output_type": "execute_result"
    }
   ],
   "source": [
    "df"
   ]
  },
  {
   "cell_type": "code",
   "execution_count": 10,
   "metadata": {},
   "outputs": [],
   "source": [
    "#put some visualizations here"
   ]
  },
  {
   "cell_type": "code",
   "execution_count": 11,
   "metadata": {},
   "outputs": [],
   "source": [
    "def split_data(df, target_name, test_size):\n",
    "    \n",
    "    y = df[target_name]\n",
    "    X = df.drop(target_name, axis=1)\n",
    "    \n",
    "    X_train, X_test, y_train, y_test = train_test_split(X, y,stratify=y, test_size=test_size)\n",
    "    \n",
    "    return X_train, X_test, y_train, y_test"
   ]
  },
  {
   "cell_type": "code",
   "execution_count": 12,
   "metadata": {},
   "outputs": [],
   "source": [
    "numeric_features = list(df.select_dtypes(include=['int', 'float']).columns)\n",
    "categorical_features = list(df.select_dtypes(exclude=['int', 'float']).columns)"
   ]
  },
  {
   "cell_type": "code",
   "execution_count": 13,
   "metadata": {},
   "outputs": [],
   "source": [
    "#numeric_features.remove('conversion')"
   ]
  },
  {
   "cell_type": "code",
   "execution_count": 14,
   "metadata": {},
   "outputs": [],
   "source": [
    "X_train, X_test, y_train, y_test = split_data(df[numeric_features], 'conversion', 0.2)"
   ]
  },
  {
   "cell_type": "code",
   "execution_count": 15,
   "metadata": {},
   "outputs": [],
   "source": [
    "clf = LogisticRegression(C=5, class_weight='auto', dual=False, fit_intercept=True,\n",
    "                   intercept_scaling=1, l1_ratio=None, max_iter=100,\n",
    "                   multi_class='auto', n_jobs=2, penalty='l2',\n",
    "                   random_state=None, solver='lbfgs', tol=0.0001, verbose=0,\n",
    "                   warm_start=False).fit(X_train, y_train)"
   ]
  },
  {
   "cell_type": "code",
   "execution_count": 16,
   "metadata": {},
   "outputs": [],
   "source": [
    "y_pred = clf.predict(X_test)"
   ]
  },
  {
   "cell_type": "code",
   "execution_count": 17,
   "metadata": {},
   "outputs": [
    {
     "name": "stdout",
     "output_type": "stream",
     "text": [
      "Model Accuracy: \n"
     ]
    },
    {
     "data": {
      "text/plain": [
       "0.935625"
      ]
     },
     "execution_count": 17,
     "metadata": {},
     "output_type": "execute_result"
    }
   ],
   "source": [
    "print('Model Accuracy: ')\n",
    "accuracy_score(y_test, y_pred)"
   ]
  },
  {
   "cell_type": "markdown",
   "metadata": {},
   "source": [
    "### We achieved 93% Accuracy on our first try! "
   ]
  },
  {
   "cell_type": "markdown",
   "metadata": {},
   "source": [
    "### But are we sure this is a good result?"
   ]
  },
  {
   "cell_type": "code",
   "execution_count": 18,
   "metadata": {},
   "outputs": [],
   "source": [
    "cm = confusion_matrix(y_test, y_pred)"
   ]
  },
  {
   "cell_type": "code",
   "execution_count": 19,
   "metadata": {},
   "outputs": [],
   "source": [
    "def plot_conf_matrix(cmx):\n",
    "    cmap = mpl.colors.ListedColormap(['green'])\n",
    "    cmap1 = mpl.colors.ListedColormap(['red'])\n",
    "    mask1 = (cmx.isin([cmx.iloc[0,0],cmx.iloc[1,1]]))\n",
    "    \n",
    "    f, ax = plt.subplots(figsize = (5,3))\n",
    "    sns.heatmap(cmx, annot=True, fmt = 'g', cmap = cmap,\n",
    "            cbar = False, annot_kws={\"size\": 20},\n",
    "            ax=ax)\n",
    "    sns.heatmap(cmx, mask=mask1 , cmap=cmap1, cbar=False)\n",
    "\n",
    "    ax.set_ylabel('Predicted label', fontsize = 15)\n",
    "    ax.set_xlabel('True label', fontsize = 15)\n",
    "    ax.set_title(\"Confusion Matrix\", fontsize = 20)\n",
    "    plt.show()"
   ]
  },
  {
   "cell_type": "markdown",
   "metadata": {},
   "source": [
    "### We correctly predicted 1345 actual conversion\n",
    "### But we incorrectly ignored 534 people who would have accepted our offer"
   ]
  },
  {
   "cell_type": "code",
   "execution_count": 23,
   "metadata": {},
   "outputs": [
    {
     "data": {
      "text/plain": [
       "array([[10631,   534],\n",
       "       [  290,  1345]])"
      ]
     },
     "execution_count": 23,
     "metadata": {},
     "output_type": "execute_result"
    }
   ],
   "source": [
    "cm.T"
   ]
  },
  {
   "cell_type": "code",
   "execution_count": 24,
   "metadata": {},
   "outputs": [],
   "source": [
    "cm_inverted = cm.T"
   ]
  },
  {
   "cell_type": "code",
   "execution_count": 25,
   "metadata": {},
   "outputs": [
    {
     "data": {
      "image/png": "[encoded data removed]",
      "text/plain": [
       "<Figure size 360x216 with 1 Axes>"
      ]
     },
     "metadata": {
      "needs_background": "light"
     },
     "output_type": "display_data"
    }
   ],
   "source": [
    "plot_conf_matrix(pd.DataFrame(cm_inverted, columns=['neg', 'pos'], \n",
    "                       index=['pred_neg', 'pred_pos']))"
   ]
  },
  {
   "cell_type": "markdown",
   "metadata": {},
   "source": [
    "### We want a model that is better at guessing i.e. higher values in the green boxes"
   ]
  },
  {
   "cell_type": "code",
   "execution_count": 26,
   "metadata": {},
   "outputs": [],
   "source": [
    "tn, fp, fn, tp = confusion_matrix(y_test, y_pred).ravel()"
   ]
  },
  {
   "cell_type": "markdown",
   "metadata": {},
   "source": [
    "#### TN - True Negative - Predicted Negative, Actually Negative - Correct Guess - Top Left Box"
   ]
  },
  {
   "cell_type": "code",
   "execution_count": 27,
   "metadata": {},
   "outputs": [
    {
     "name": "stdout",
     "output_type": "stream",
     "text": [
      "Number of True Negatives:  10631\n"
     ]
    }
   ],
   "source": [
    "print('Number of True Negatives: ', tn)"
   ]
  },
  {
   "cell_type": "markdown",
   "metadata": {},
   "source": [
    "#### FP - False Positive - Predicted Positive, Actually Negative - Bottom Left Box"
   ]
  },
  {
   "cell_type": "code",
   "execution_count": 28,
   "metadata": {},
   "outputs": [
    {
     "name": "stdout",
     "output_type": "stream",
     "text": [
      "Number of False Positives:  290\n"
     ]
    }
   ],
   "source": [
    "print('Number of False Positives: ', fp)"
   ]
  },
  {
   "cell_type": "markdown",
   "metadata": {},
   "source": [
    "#### FN - False Negative - Predicted Negative, Actually Positive - Top Right Box"
   ]
  },
  {
   "cell_type": "code",
   "execution_count": 29,
   "metadata": {},
   "outputs": [
    {
     "name": "stdout",
     "output_type": "stream",
     "text": [
      "Number of False Negatives:  534\n"
     ]
    }
   ],
   "source": [
    "print('Number of False Negatives: ', fn)"
   ]
  },
  {
   "cell_type": "markdown",
   "metadata": {},
   "source": [
    "#### TP - True Positive - Predicted Positive, Actually Positive - Bottom Right Box"
   ]
  },
  {
   "cell_type": "code",
   "execution_count": 30,
   "metadata": {},
   "outputs": [
    {
     "name": "stdout",
     "output_type": "stream",
     "text": [
      "Number of True Positives:  1345\n"
     ]
    },
    {
     "name": "stderr",
     "output_type": "stream",
     "text": [
      "/home/cdsw/.local/lib/python3.7/site-packages/sklearn/linear_model/logistic.py:947: ConvergenceWarning: lbfgs failed to converge. Increase the number of iterations.\n",
      "  \"of iterations.\", ConvergenceWarning)\n"
     ]
    }
   ],
   "source": [
    "print('Number of True Positives: ', tp)"
   ]
  },
  {
   "cell_type": "code",
   "execution_count": null,
   "metadata": {},
   "outputs": [],
   "source": []
  }
 ],
 "metadata": {
  "kernelspec": {
   "display_name": "Python 3 (ipykernel)",
   "language": "python",
   "name": "python3"
  },
  "language_info": {
   "codemirror_mode": {
    "name": "ipython",
    "version": 3
   },
   "file_extension": ".py",
   "mimetype": "text/x-python",
   "name": "python",
   "nbconvert_exporter": "python",
   "pygments_lexer": "ipython3",
   "version": "3.7.13"
  }
 },
 "nbformat": 4,
 "nbformat_minor": 4
}
